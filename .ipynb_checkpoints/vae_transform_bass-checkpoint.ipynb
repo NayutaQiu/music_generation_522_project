{
 "cells": [
  {
   "cell_type": "code",
   "execution_count": null,
   "id": "a86633a0",
   "metadata": {},
   "outputs": [],
   "source": [
    "%load_ext autoreload\n",
    "%autoreload 2\n",
    "from dataset import iterable_dataset\n",
    "from models.music_generation_gru import MusicGRU\n",
    "import os\n",
    "from utils import training_rnn, data_reading\n",
    "import torch\n",
    "from torch.utils.data import DataLoader\n",
    "import pickle\n",
    "import matplotlib.pyplot as plt\n",
    "from utils import data_reading, music_generation\n",
    "from models import music_generation_VAE\n",
    "from dataset import iterable_dataset"
   ]
  },
  {
   "cell_type": "code",
   "execution_count": null,
   "id": "212eebc7",
   "metadata": {},
   "outputs": [],
   "source": [
    "FILES_TO_READ = 25000\n",
    "DEVICE = torch.device('cuda' if torch.cuda.is_available() else 'cpu')\n",
    "PROJECT_DIR =\"D:/522 project\"\n",
    "PPR_DIR = \"lpd_5_pianoroll\"\n",
    "SEQ_LEN = 48\n",
    "RESOLUTION = 12\n",
    "TRAIN_SPLIT = 0.8\n",
    "HIDDEN_SIZE = 512\n",
    "BATCH_SIZE = 32\n",
    "N_LAYERS = 6\n",
    "ALPHA = 5\n",
    "LR = 0.0001\n",
    "LR_LAMBDA = 1\n",
    "EPOCH = 20\n",
    "AUTOSAVE = True\n",
    "BUFFER_SIZE = 1000\n",
    "REQUIRED_INSTRUMENTS = [\"Bass\", \"Piano\"]\n",
    "PATH = os.path.join(PROJECT_DIR, PPR_DIR)\n",
    "BASS_MODEL_STATE_PATH = \"./saved_model_and_data/vae/vae_bass/B_vae_trained_r12s48d26e20\"\n",
    "BASS_FEATURES_SAVE_PATH = \"./saved_model_and_data/transformed_features/bass\"\n",
    "PIANO_MODEL_STATE_PATH = \"./saved_model_and_data/vae/vae_piano/P_vae_trained_r12s48d25e20\""
   ]
  },
  {
   "cell_type": "code",
   "execution_count": null,
   "id": "9eec5dc7",
   "metadata": {},
   "outputs": [],
   "source": [
    "all_files_list = data_reading.read_all_npzs(PATH, shuffle=True)\n",
    "guitar_piano_dataset = iterable_dataset.IterableSongDataset(all_files_list, SEQ_LEN, RESOLUTION, REQUIRED_INSTRUMENTS, \n",
    "                                          method=\"one_step_window\", normalize=False, binarize=False,\n",
    "                                          buffer_size=BUFFER_SIZE, files_to_read=FILES_TO_READ)\n",
    "guitar_piano_loader = DataLoader(guitar_piano_dataset, batch_size = BATCH_SIZE, drop_last=True)"
   ]
  },
  {
   "cell_type": "code",
   "execution_count": null,
   "id": "59fb24b5",
   "metadata": {},
   "outputs": [],
   "source": [
    "piano_model = music_generation_VAE.ConvVAE([\"Piano\"], HIDDEN_SIZE)\n",
    "piano_model.load_state_dict(torch.load(PIANO_MODEL_STATE_PATH))\n",
    "piano_model.to(DEVICE)"
   ]
  },
  {
   "cell_type": "code",
   "execution_count": null,
   "id": "547520b3",
   "metadata": {},
   "outputs": [],
   "source": [
    "guitar_model = music_generation_VAE.ConvVAE([\"Guitar\"], HIDDEN_SIZE)\n",
    "guitar_model.load_state_dict(torch.load(GUITAR_MODEL_STATE_PATH))\n",
    "guitar_model.to(DEVICE)"
   ]
  },
  {
   "cell_type": "code",
   "execution_count": null,
   "id": "e8950e46",
   "metadata": {},
   "outputs": [],
   "source": [
    "import numpy as np\n",
    "guitar_model.eval()\n",
    "piano_model.eval()\n",
    "i=1\n",
    "x=0\n",
    "import csv\n",
    "res_list = []\n",
    "print(guitar_piano_dataset.get_track_order())\n",
    "for song_seq, _ in guitar_piano_dataset:\n",
    "    song_seq = torch.from_numpy(song_seq).unsqueeze(0).float().to(DEVICE)\n",
    "    piano_seq = song_seq[:, 0:1, :, :]\n",
    "    guitar_seq = song_seq[:, 1:2, :, :]\n",
    "    guitar_transformed_track = guitar_model.encode(guitar_seq).squeeze().detach().cpu().numpy()\n",
    "    piano_transformed_track = piano_model.encode(piano_seq).squeeze().detach().cpu().numpy()\n",
    "    transformed_track = np.stack([guitar_transformed_track, piano_transformed_track])\n",
    "    res_list.append(transformed_track)\n",
    "    if i%10000 == 0:\n",
    "        np.save(os.path.join(BASS_FEATURES_SAVE_PATH, f\"bass_with_piano_vae_features{x}\"), np.stack(res_list))\n",
    "        del res_list\n",
    "        res_list = []\n",
    "        x+=1\n",
    "    i+=1\n",
    "np.save(os.path.join(BASS_FEATURES_SAVE_PATH, f\"bass_with_piano_vae_features_final\"), np.stack(res_list))"
   ]
  }
 ],
 "metadata": {
  "kernelspec": {
   "display_name": "Python 3 (ipykernel)",
   "language": "python",
   "name": "python3"
  },
  "language_info": {
   "codemirror_mode": {
    "name": "ipython",
    "version": 3
   },
   "file_extension": ".py",
   "mimetype": "text/x-python",
   "name": "python",
   "nbconvert_exporter": "python",
   "pygments_lexer": "ipython3",
   "version": "3.9.7"
  }
 },
 "nbformat": 4,
 "nbformat_minor": 5
}
