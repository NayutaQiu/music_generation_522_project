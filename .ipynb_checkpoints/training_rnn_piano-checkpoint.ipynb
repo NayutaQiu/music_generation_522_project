{
 "cells": [
  {
   "cell_type": "code",
   "execution_count": 9,
   "id": "9bc72448",
   "metadata": {},
   "outputs": [
    {
     "name": "stdout",
     "output_type": "stream",
     "text": [
      "The autoreload extension is already loaded. To reload it, use:\n",
      "  %reload_ext autoreload\n"
     ]
    }
   ],
   "source": [
    "%load_ext autoreload\n",
    "%autoreload 2"
   ]
  },
  {
   "cell_type": "code",
   "execution_count": 11,
   "id": "81e0b0b2",
   "metadata": {},
   "outputs": [
    {
     "ename": "TypeError",
     "evalue": "__init__() got an unexpected keyword argument 'time_slice'",
     "output_type": "error",
     "traceback": [
      "\u001b[1;31m---------------------------------------------------------------------------\u001b[0m",
      "\u001b[1;31mTypeError\u001b[0m                                 Traceback (most recent call last)",
      "\u001b[1;32m~\\AppData\\Local\\Temp/ipykernel_12248/829950644.py\u001b[0m in \u001b[0;36m<module>\u001b[1;34m\u001b[0m\n\u001b[0;32m     40\u001b[0m                                           buffer_size=TRAIN_BUFFER_SIZE, files_to_read=TRAIN_FILES_TO_READ)\n\u001b[0;32m     41\u001b[0m \u001b[0mtrain_piano_loader\u001b[0m \u001b[1;33m=\u001b[0m \u001b[0mDataLoader\u001b[0m\u001b[1;33m(\u001b[0m\u001b[0mtrain_piano_dataset\u001b[0m\u001b[1;33m,\u001b[0m \u001b[0mbatch_size\u001b[0m \u001b[1;33m=\u001b[0m \u001b[0mBATCH_SIZE\u001b[0m\u001b[1;33m,\u001b[0m \u001b[0mdrop_last\u001b[0m\u001b[1;33m=\u001b[0m\u001b[1;32mTrue\u001b[0m\u001b[1;33m)\u001b[0m\u001b[1;33m\u001b[0m\u001b[1;33m\u001b[0m\u001b[0m\n\u001b[1;32m---> 42\u001b[1;33m test_piano_dataset = iterable_dataset.IterableSongDataset(test_file_paths, SEQ_LEN, RESOLUTION, INSTRUMENT, \n\u001b[0m\u001b[0;32m     43\u001b[0m                                          \u001b[0mtime_slice\u001b[0m\u001b[1;33m=\u001b[0m\u001b[1;32mFalse\u001b[0m\u001b[1;33m,\u001b[0m \u001b[0mnormalize\u001b[0m\u001b[1;33m=\u001b[0m\u001b[1;32mFalse\u001b[0m\u001b[1;33m,\u001b[0m \u001b[0mbinarize\u001b[0m\u001b[1;33m=\u001b[0m\u001b[1;32mTrue\u001b[0m\u001b[1;33m,\u001b[0m\u001b[1;33m\u001b[0m\u001b[1;33m\u001b[0m\u001b[0m\n\u001b[0;32m     44\u001b[0m                                          buffer_size=TEST_BUFFER_SIZE, files_to_read=TEST_FILE_TO_READ)\n",
      "\u001b[1;31mTypeError\u001b[0m: __init__() got an unexpected keyword argument 'time_slice'"
     ]
    }
   ],
   "source": [
    "from dataset import iterable_dataset\n",
    "from models.music_generation_gru import MusicGRU\n",
    "import os\n",
    "from utils import training_rnn, data_reading\n",
    "import torch\n",
    "from torch.utils.data import DataLoader\n",
    "import pickle\n",
    "import matplotlib.pyplot as plt\n",
    "DEVICE = torch.device('cuda' if torch.cuda.is_available() else 'cpu')\n",
    "PROJECT_DIR =\"D:/522 project\"\n",
    "PPR_DIR = \"lpd_5_pianoroll\"\n",
    "SEQ_LEN = 48\n",
    "RESOLUTION = 12\n",
    "TRAIN_SPLIT = 0.8\n",
    "HIDDEN_SIZE = 512\n",
    "BATCH_SIZE = 32\n",
    "N_LAYERS = 6\n",
    "ALPHA = 5\n",
    "LR = 0.0001\n",
    "LR_LAMBDA = 1\n",
    "EPOCH = 40\n",
    "AUTOSAVE = True\n",
    "\n",
    "TRAIN_BUFFER_SIZE = 1000\n",
    "TRAIN_FILES_TO_READ = 3000\n",
    "\n",
    "TEST_BUFFER_SIZE = 500\n",
    "TEST_FILE_TO_READ = 500\n",
    "\n",
    "SCALER_DICT_SAVE_PATH = \"./gru_saving/gru_piano_scaler_dict.pkl\"\n",
    "TRACK_ORDER_SAVE_PATH = \"./gru_saving/gru_piano_track_order.pkl\"\n",
    "SAVE_ON_EPOCH = 1\n",
    "PATH = os.path.join(PROJECT_DIR, PPR_DIR)\n",
    "INSTRUMENT = [\"Piano\"]\n",
    "all_file_paths = data_reading.read_all_npzs(PATH, True)\n",
    "train_file_paths = all_file_paths[:round(len(all_file_paths)*TRAIN_SPLIT)]\n",
    "test_file_paths = all_file_paths[round(len(all_file_paths)*TRAIN_SPLIT):]\n",
    "train_piano_dataset = iterable_dataset.IterableSongDataset(train_file_paths, SEQ_LEN, RESOLUTION,  INSTRUMENT, \n",
    "                                          method=\"shift_window\", normalize=False, binarize=True,\n",
    "                                          buffer_size=TRAIN_BUFFER_SIZE, files_to_read=TRAIN_FILES_TO_READ)\n",
    "train_piano_loader = DataLoader(train_piano_dataset, batch_size = BATCH_SIZE, drop_last=True)\n",
    "test_piano_dataset = iterable_dataset.IterableSongDataset(test_file_paths, SEQ_LEN, RESOLUTION, INSTRUMENT, \n",
    "                                         method=\"shift_window\", normalize=False, binarize=True,\n",
    "                                         buffer_size=TEST_BUFFER_SIZE, files_to_read=TEST_FILE_TO_READ)\n",
    "test_piano_loader = DataLoader(test_piano_dataset, batch_size = BATCH_SIZE, drop_last=True)\n",
    "model = MusicGRU(train_piano_dataset.get_track_order(), HIDDEN_SIZE, BATCH_SIZE, N_LAYERS, DEVICE).to(DEVICE)\n",
    "\n",
    "optimizer = torch.optim.Adam(model.parameters(), lr=LR)\n",
    "scheduler = torch.optim.lr_scheduler.LambdaLR(optimizer, lr_lambda = lambda epoch: LR_LAMBDA ** epoch)\n",
    "criterion = torch.nn.BCEWithLogitsLoss()\n"
   ]
  },
  {
   "cell_type": "code",
   "execution_count": null,
   "id": "1df240b9",
   "metadata": {},
   "outputs": [],
   "source": [
    "train_losses, test_losses = training_rnn.training_rnn(model, optimizer, scheduler, criterion, train_piano_loader,\n",
    "             test_piano_loader, EPOCH, DEVICE, BATCH_SIZE,  ALPHA, AUTOSAVE, SAVE_ON_EPOCH)\n"
   ]
  },
  {
   "cell_type": "code",
   "execution_count": null,
   "id": "6f685948",
   "metadata": {},
   "outputs": [],
   "source": [
    "\n",
    "with open(TRACK_ORDER_SAVE_PATH, \"wb\") as file:\n",
    "    pickle.dump(train_piano_dataset.get_track_order(), file)"
   ]
  },
  {
   "cell_type": "code",
   "execution_count": null,
   "id": "55959290",
   "metadata": {},
   "outputs": [],
   "source": [
    "plt.rcParams[\"figure.figsize\"] = (20,20)\n",
    "plt.plot(train_losses, label = 'Train Loss')\n",
    "plt.plot(test_losses, label = 'Test Loss')\n",
    "plt.xlabel('Epoch')\n",
    "plt.ylabel('Loss')\n",
    "plt.legend()\n"
   ]
  },
  {
   "cell_type": "code",
   "execution_count": null,
   "id": "6aa0c26b",
   "metadata": {},
   "outputs": [],
   "source": []
  }
 ],
 "metadata": {
  "kernelspec": {
   "display_name": "Python 3 (ipykernel)",
   "language": "python",
   "name": "python3"
  },
  "language_info": {
   "codemirror_mode": {
    "name": "ipython",
    "version": 3
   },
   "file_extension": ".py",
   "mimetype": "text/x-python",
   "name": "python",
   "nbconvert_exporter": "python",
   "pygments_lexer": "ipython3",
   "version": "3.9.7"
  }
 },
 "nbformat": 4,
 "nbformat_minor": 5
}
