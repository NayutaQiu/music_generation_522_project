{
 "cells": [
  {
   "cell_type": "code",
   "execution_count": 23,
   "id": "5409adb7",
   "metadata": {},
   "outputs": [
    {
     "name": "stdout",
     "output_type": "stream",
     "text": [
      "The autoreload extension is already loaded. To reload it, use:\n",
      "  %reload_ext autoreload\n"
     ]
    }
   ],
   "source": [
    "%load_ext autoreload\n",
    "%autoreload 2\n",
    "from dataset import iterable_dataset, vae_feature_dataset\n",
    "from models.music_generation_gru import MusicGRU\n",
    "import os\n",
    "from utils import training_rnn, data_reading\n",
    "import torch\n",
    "from torch.utils.data import DataLoader\n",
    "import pickle\n",
    "import matplotlib.pyplot as plt\n",
    "from utils import data_reading, music_generation\n",
    "from models import feature_prediction_gru\n",
    "from dataset import iterable_dataset"
   ]
  },
  {
   "cell_type": "code",
   "execution_count": 31,
   "id": "f957c7a5",
   "metadata": {},
   "outputs": [],
   "source": [
    "FEATURE_DIRPATH = \"./saved_model_and_data/transformed_features/strings\"\n",
    "TRAIN_SPLIT = 0.95\n",
    "SEQ_LEN = 48\n",
    "RESOLUTION = 12\n",
    "TRACK_ORDER = [\"Strings\", \"Piano\"]\n",
    "FILES_TO_READ = 99999\n",
    "BATCH_SIZE = 64\n",
    "LATENT_SIZE = 513\n",
    "HIDDEN_SIZE = 512\n",
    "N_LAYER = 3\n",
    "DEVICE = torch.device('cuda' if torch.cuda.is_available() else 'cpu')\n",
    "LR_LAMBDA = 1\n",
    "LR = 0.0001\n",
    "ALPHA = 0\n",
    "AUTO_SAVE = False\n",
    "SAVE_ON_EPOCH = 1"
   ]
  },
  {
   "cell_type": "code",
   "execution_count": 32,
   "id": "24968d58",
   "metadata": {},
   "outputs": [],
   "source": [
    "all_feature_files = data_reading.read_all_npys(FEATURE_DIRPATH, True)"
   ]
  },
  {
   "cell_type": "code",
   "execution_count": 33,
   "id": "07721503",
   "metadata": {},
   "outputs": [],
   "source": [
    "train_len = round(len(all_feature_files)*TRAIN_SPLIT)\n",
    "train_files_list = all_feature_files[:train_len]\n",
    "test_files_list = all_feature_files[train_len:]"
   ]
  },
  {
   "cell_type": "code",
   "execution_count": 34,
   "id": "5d466d5e",
   "metadata": {},
   "outputs": [],
   "source": [
    "train_dataset = vae_feature_dataset.IterableSongDataset(train_files_list, SEQ_LEN, TRACK_ORDER, FILES_TO_READ, RESOLUTION)\n",
    "test_dataset = vae_feature_dataset.IterableSongDataset(test_files_list, SEQ_LEN, TRACK_ORDER, FILES_TO_READ, RESOLUTION)\n",
    "train_loader = DataLoader(train_dataset, batch_size = BATCH_SIZE, drop_last=True)\n",
    "test_loader = DataLoader(test_dataset, batch_size = BATCH_SIZE, drop_last=True)"
   ]
  },
  {
   "cell_type": "code",
   "execution_count": 36,
   "id": "d20f6f12",
   "metadata": {},
   "outputs": [],
   "source": [
    "model = feature_prediction_gru.FeaturePredictionGRU([\"Strings\"], LATENT_SIZE, HIDDEN_SIZE, BATCH_SIZE, N_LAYER, DEVICE).to(DEVICE)"
   ]
  },
  {
   "cell_type": "code",
   "execution_count": 37,
   "id": "d2d888e4",
   "metadata": {},
   "outputs": [],
   "source": [
    "optimizer = torch.optim.Adam(model.parameters(), lr=LR)\n",
    "scheduler = torch.optim.lr_scheduler.LambdaLR(optimizer, lr_lambda = lambda epoch: LR_LAMBDA ** epoch)\n",
    "criterion = torch.nn.MSELoss()"
   ]
  },
  {
   "cell_type": "code",
   "execution_count": 45,
   "id": "f961c622",
   "metadata": {},
   "outputs": [
    {
     "name": "stdout",
     "output_type": "stream",
     "text": [
      "[0.0001]\n",
      "start test\n",
      "Epoch 1, Train Loss: 0.2780121477294307, Test Loss: 0.32570522075349634, Time: 2022-04-26 14:26:46.348087\n",
      "[0.0001]\n",
      "start test\n",
      "Epoch 2, Train Loss: 0.2758669878634231, Test Loss: 0.3248292316089977, Time: 2022-04-26 14:26:58.158087\n",
      "[0.0001]\n",
      "start test\n",
      "Epoch 3, Train Loss: 0.27421075239848186, Test Loss: 0.3238027177073739, Time: 2022-04-26 14:27:09.978087\n",
      "[0.0001]\n",
      "start test\n",
      "Epoch 4, Train Loss: 0.2723849830681114, Test Loss: 0.32361351224509155, Time: 2022-04-26 14:27:21.894091\n",
      "[0.0001]\n",
      "start test\n",
      "Epoch 5, Train Loss: 0.2703710160266732, Test Loss: 0.3231625380841168, Time: 2022-04-26 14:27:34.114589\n",
      "[0.0001]\n",
      "start test\n",
      "Epoch 6, Train Loss: 0.2680501030378432, Test Loss: 0.3214053606445139, Time: 2022-04-26 14:27:46.034590\n",
      "[0.0001]\n",
      "start test\n",
      "Epoch 7, Train Loss: 0.2658133927326632, Test Loss: 0.3214533166451888, Time: 2022-04-26 14:27:57.964087\n",
      "[0.0001]\n",
      "start test\n",
      "Epoch 8, Train Loss: 0.26356081110182533, Test Loss: 0.32159235260703345, Time: 2022-04-26 14:28:09.970088\n",
      "[0.0001]\n",
      "start test\n",
      "Epoch 9, Train Loss: 0.2615095331770549, Test Loss: 0.3215656808831475, Time: 2022-04-26 14:28:21.901588\n",
      "[0.0001]\n",
      "start test\n",
      "Epoch 10, Train Loss: 0.25934541204246864, Test Loss: 0.3208589648658579, Time: 2022-04-26 14:28:33.898087\n",
      "[0.0001]\n",
      "start test\n",
      "Epoch 11, Train Loss: 0.25735100944884015, Test Loss: 0.32112380997701123, Time: 2022-04-26 14:28:45.800088\n",
      "[0.0001]\n",
      "start test\n",
      "Epoch 12, Train Loss: 0.2553591404410335, Test Loss: 0.3191354261203246, Time: 2022-04-26 14:28:57.779589\n",
      "[0.0001]\n",
      "start test\n",
      "Epoch 13, Train Loss: 0.2534325619656328, Test Loss: 0.31903603266585956, Time: 2022-04-26 14:29:09.712587\n",
      "[0.0001]\n",
      "start test\n",
      "Epoch 14, Train Loss: 0.2515817349202825, Test Loss: 0.31727745316245337, Time: 2022-04-26 14:29:21.917587\n",
      "[0.0001]\n",
      "start test\n",
      "Epoch 15, Train Loss: 0.2497784782077464, Test Loss: 0.31741864301941614, Time: 2022-04-26 14:29:34.273087\n",
      "[0.0001]\n",
      "start test\n",
      "Epoch 16, Train Loss: 0.24796630728160035, Test Loss: 0.31696917658502405, Time: 2022-04-26 14:29:46.719088\n",
      "[0.0001]\n",
      "start test\n",
      "Epoch 17, Train Loss: 0.24631143375454356, Test Loss: 0.31652015312151477, Time: 2022-04-26 14:29:58.865087\n",
      "[0.0001]\n",
      "start test\n",
      "Epoch 18, Train Loss: 0.2446092889065991, Test Loss: 0.315935495224866, Time: 2022-04-26 14:30:10.946588\n",
      "[0.0001]\n",
      "start test\n",
      "Epoch 19, Train Loss: 0.24321938510895905, Test Loss: 0.31438454308293085, Time: 2022-04-26 14:30:23.314587\n",
      "[0.0001]\n",
      "start test\n",
      "Epoch 20, Train Loss: 0.24174136174092362, Test Loss: 0.3130362413146279, Time: 2022-04-26 14:30:35.374087\n",
      "[0.0001]\n",
      "start test\n",
      "Epoch 21, Train Loss: 0.24077709181613832, Test Loss: 0.31304364041848615, Time: 2022-04-26 14:30:47.725587\n",
      "[0.0001]\n",
      "start test\n",
      "Epoch 22, Train Loss: 0.24024152300227875, Test Loss: 0.31612672995437274, Time: 2022-04-26 14:30:59.937588\n",
      "[0.0001]\n",
      "start test\n",
      "Epoch 23, Train Loss: 0.23924507108909823, Test Loss: 0.315761310133067, Time: 2022-04-26 14:31:12.143087\n",
      "[0.0001]\n",
      "start test\n",
      "Epoch 24, Train Loss: 0.2370838739366328, Test Loss: 0.31257816742766986, Time: 2022-04-26 14:31:24.272587\n",
      "[0.0001]\n",
      "start test\n",
      "Epoch 25, Train Loss: 0.23468358380393395, Test Loss: 0.3100694858215072, Time: 2022-04-26 14:31:36.577589\n",
      "[0.0001]\n",
      "start test\n",
      "Epoch 26, Train Loss: 0.2323880270829698, Test Loss: 0.3097171160307797, Time: 2022-04-26 14:31:48.709588\n",
      "[0.0001]\n",
      "start test\n",
      "Epoch 27, Train Loss: 0.23065739238007937, Test Loss: 0.3093747327273542, Time: 2022-04-26 14:32:00.808088\n",
      "[0.0001]\n",
      "start test\n",
      "Epoch 28, Train Loss: 0.2290738206268487, Test Loss: 0.3094385042786598, Time: 2022-04-26 14:32:12.934088\n",
      "[0.0001]\n",
      "start test\n",
      "Epoch 29, Train Loss: 0.22780226351101818, Test Loss: 0.3092379055239938, Time: 2022-04-26 14:32:25.037088\n",
      "[0.0001]\n",
      "start test\n",
      "Epoch 30, Train Loss: 0.22648626223418386, Test Loss: 0.3094222660769116, Time: 2022-04-26 14:32:39.015588\n"
     ]
    }
   ],
   "source": [
    "EPOCH = 30\n",
    "train_losses, test_losses = training_rnn.training_rnn(model, optimizer, scheduler, criterion, train_loader, test_loader, EPOCH, DEVICE, BATCH_SIZE, \n",
    "                         ALPHA, AUTO_SAVE, SAVE_ON_EPOCH)"
   ]
  },
  {
   "cell_type": "code",
   "execution_count": 44,
   "id": "ebb42ecd",
   "metadata": {},
   "outputs": [
    {
     "data": {
      "text/plain": [
       "<matplotlib.legend.Legend at 0x2028223c550>"
      ]
     },
     "execution_count": 44,
     "metadata": {},
     "output_type": "execute_result"
    },
    {
     "data": {
      "image/png": "[encoded data removed]",
      "text/plain": [
       "<Figure size 1080x1080 with 1 Axes>"
      ]
     },
     "metadata": {
      "needs_background": "light"
     },
     "output_type": "display_data"
    }
   ],
   "source": [
    "plt.rcParams[\"figure.figsize\"] = (15,15)\n",
    "plt.plot(train_losses, label = 'Train Loss')\n",
    "plt.plot(test_losses, label = 'Test Loss')\n",
    "plt.xlabel('Epoch')\n",
    "plt.ylabel('Loss')\n",
    "plt.legend()\n"
   ]
  },
  {
   "cell_type": "code",
   "execution_count": 47,
   "id": "211891d1",
   "metadata": {},
   "outputs": [],
   "source": [
    "STRINGS_SAVE_PATH = f\"./saved_model_and_data/learner/strings_based_on_piano/string_learner_epoch60\"\n",
    "torch.save(model.state_dict(), STRINGS_SAVE_PATH) "
   ]
  },
  {
   "cell_type": "code",
   "execution_count": null,
   "id": "30509db6",
   "metadata": {},
   "outputs": [],
   "source": []
  }
 ],
 "metadata": {
  "kernelspec": {
   "display_name": "Python 3 (ipykernel)",
   "language": "python",
   "name": "python3"
  },
  "language_info": {
   "codemirror_mode": {
    "name": "ipython",
    "version": 3
   },
   "file_extension": ".py",
   "mimetype": "text/x-python",
   "name": "python",
   "nbconvert_exporter": "python",
   "pygments_lexer": "ipython3",
   "version": "3.9.7"
  }
 },
 "nbformat": 4,
 "nbformat_minor": 5
}
