{
 "cells": [
  {
   "cell_type": "code",
   "execution_count": 1,
   "id": "93e43e37",
   "metadata": {},
   "outputs": [],
   "source": [
    "%load_ext autoreload\n",
    "%autoreload 2\n",
    "from dataset import iterable_dataset\n",
    "from models.music_generation_gru import MusicGRU\n",
    "import os\n",
    "from utils import training_rnn, data_reading\n",
    "import torch\n",
    "from torch.utils.data import DataLoader\n",
    "import pickle\n",
    "import matplotlib.pyplot as plt\n",
    "from utils import data_reading, music_generation\n",
    "from models import music_generation_VAE\n",
    "from dataset import iterable_dataset"
   ]
  },
  {
   "cell_type": "code",
   "execution_count": 2,
   "id": "ced550f0",
   "metadata": {},
   "outputs": [],
   "source": [
    "FILES_TO_READ = 25000\n",
    "DEVICE = torch.device('cuda' if torch.cuda.is_available() else 'cpu')\n",
    "PROJECT_DIR =\"D:/522 project\"\n",
    "PPR_DIR = \"lpd_5_pianoroll\"\n",
    "SEQ_LEN = 48\n",
    "RESOLUTION = 12\n",
    "TRAIN_SPLIT = 0.8\n",
    "HIDDEN_SIZE = 512\n",
    "BATCH_SIZE = 32\n",
    "N_LAYERS = 6\n",
    "ALPHA = 5\n",
    "LR = 0.0001\n",
    "LR_LAMBDA = 1\n",
    "EPOCH = 20\n",
    "AUTOSAVE = True\n",
    "BUFFER_SIZE = 1000\n",
    "REQUIRED_INSTRUMENTS = [\"Piano\"]\n",
    "PATH = os.path.join(PROJECT_DIR, PPR_DIR)\n",
    "PIANO_MODEL_STATE_PATH = \"./saved_model_and_data/vae/vae_piano/P_vae_trained_r12s48d25e20\"\n",
    "PIANO_FEATURES_SAVE_PATH = \"./saved_model_and_data/transformed_features/piano\""
   ]
  },
  {
   "cell_type": "code",
   "execution_count": 3,
   "id": "a7bbf801",
   "metadata": {},
   "outputs": [],
   "source": [
    "all_files_list = data_reading.read_all_npzs(PATH, shuffle=True)\n",
    "piano_dataset = iterable_dataset.IterableSongDataset(all_files_list, SEQ_LEN, RESOLUTION, REQUIRED_INSTRUMENTS, \n",
    "                                          method=\"one_step_window\", normalize=False, binarize=False,\n",
    "                                          buffer_size=BUFFER_SIZE, files_to_read=FILES_TO_READ)"
   ]
  },
  {
   "cell_type": "code",
   "execution_count": 4,
   "id": "0ab2cced",
   "metadata": {},
   "outputs": [],
   "source": [
    "piano_loader = DataLoader(piano_dataset, batch_size = BATCH_SIZE, drop_last=True)"
   ]
  },
  {
   "cell_type": "code",
   "execution_count": 5,
   "id": "b4463ebc",
   "metadata": {},
   "outputs": [
    {
     "data": {
      "text/plain": [
       "ConvVAE(\n",
       "  (enc_conv1): Conv2d(1, 64, kernel_size=(4, 4), stride=(2, 2))\n",
       "  (enc_conv2): Conv2d(64, 128, kernel_size=(3, 3), stride=(2, 2))\n",
       "  (enc_conv3): Conv2d(128, 256, kernel_size=(3, 3), stride=(2, 2))\n",
       "  (enc_conv4): Conv2d(256, 512, kernel_size=(3, 3), stride=(2, 2))\n",
       "  (trans_enc_lin1): Linear(in_features=7168, out_features=512, bias=True)\n",
       "  (trans_enc_lin2): Linear(in_features=512, out_features=256, bias=True)\n",
       "  (trans_enc_lin3): Linear(in_features=256, out_features=513, bias=True)\n",
       "  (trans_dec1): Linear(in_features=512, out_features=256, bias=True)\n",
       "  (trans_dec2): Linear(in_features=256, out_features=512, bias=True)\n",
       "  (trans_dec3): Linear(in_features=512, out_features=7168, bias=True)\n",
       "  (dec_conv1): ConvTranspose2d(512, 256, kernel_size=(3, 3), stride=(2, 2))\n",
       "  (dec_conv2): ConvTranspose2d(256, 128, kernel_size=(3, 3), stride=(2, 2))\n",
       "  (dec_conv3): ConvTranspose2d(128, 64, kernel_size=(3, 3), stride=(2, 2))\n",
       "  (dec_conv4): ConvTranspose2d(64, 1, kernel_size=(4, 4), stride=(2, 2))\n",
       "  (flatten): Flatten(start_dim=1, end_dim=-1)\n",
       "  (unflatten): Unflatten(dim=1, unflattened_size=(512, 2, 7))\n",
       "  (dropout): Dropout(p=0.5, inplace=False)\n",
       "  (batch_norm64): BatchNorm2d(64, eps=1e-05, momentum=0.1, affine=True, track_running_stats=True)\n",
       "  (batch_norm128): BatchNorm2d(128, eps=1e-05, momentum=0.1, affine=True, track_running_stats=True)\n",
       "  (batch_norm256): BatchNorm2d(256, eps=1e-05, momentum=0.1, affine=True, track_running_stats=True)\n",
       "  (batch_norm512): BatchNorm2d(512, eps=1e-05, momentum=0.1, affine=True, track_running_stats=True)\n",
       "  (batch_norm_enc1): BatchNorm1d(512, eps=1e-05, momentum=0.1, affine=True, track_running_stats=True)\n",
       "  (batch_norm_enc2): BatchNorm1d(256, eps=1e-05, momentum=0.1, affine=True, track_running_stats=True)\n",
       "  (batch_norm_dec1): BatchNorm1d(256, eps=1e-05, momentum=0.1, affine=True, track_running_stats=True)\n",
       "  (batch_norm_dec2): BatchNorm1d(512, eps=1e-05, momentum=0.1, affine=True, track_running_stats=True)\n",
       ")"
      ]
     },
     "execution_count": 5,
     "metadata": {},
     "output_type": "execute_result"
    }
   ],
   "source": [
    "piano_model = music_generation_VAE.ConvVAE([\"Piano\"], HIDDEN_SIZE)\n",
    "piano_model.load_state_dict(torch.load(PIANO_MODEL_STATE_PATH))\n",
    "piano_model.to(DEVICE)"
   ]
  },
  {
   "cell_type": "code",
   "execution_count": 9,
   "id": "82aa7926",
   "metadata": {},
   "outputs": [
    {
     "name": "stdout",
     "output_type": "stream",
     "text": [
      "reloading\n",
      "reloading\n",
      "reloading\n",
      "reloading\n",
      "reloading\n",
      "reloading\n",
      "reloading\n",
      "reloading\n",
      "reloading\n",
      "reloading\n",
      "reloading\n",
      "reloading\n",
      "reloading\n",
      "reloading\n",
      "reloading\n",
      "reloading\n",
      "reloading\n",
      "reloading\n",
      "reloading\n",
      "reloading\n",
      "reloading\n",
      "reloading\n"
     ]
    }
   ],
   "source": [
    "import numpy as np\n",
    "piano_model.eval()\n",
    "i=1\n",
    "x=0\n",
    "import csv\n",
    "res_list = []\n",
    "for song_seq, _ in piano_dataset:\n",
    "    song_seq = torch.from_numpy(song_seq).unsqueeze(0).float().to(DEVICE)\n",
    "    transformed_track = piano_model.encode(song_seq).squeeze().detach().cpu().numpy()\n",
    "    transformed_track = transformed_track[np.newaxis,:]\n",
    "    res_list.append(transformed_track)\n",
    "    if i%10000 == 0:\n",
    "        np.save(os.path.join(PIANO_FEATURES_SAVE_PATH, f\"piano_vae_features{x}\"), np.stack(res_list))\n",
    "        del res_list\n",
    "        res_list = []\n",
    "        x+=1\n",
    "    i+=1\n",
    "np.save(os.path.join(PIANO_FEATURES_SAVE_PATH, f\"piano_vae_features_final\"), np.stack(res_list))"
   ]
  },
  {
   "cell_type": "code",
   "execution_count": null,
   "id": "b2c6cdda",
   "metadata": {},
   "outputs": [],
   "source": []
  }
 ],
 "metadata": {
  "kernelspec": {
   "display_name": "Python 3 (ipykernel)",
   "language": "python",
   "name": "python3"
  },
  "language_info": {
   "codemirror_mode": {
    "name": "ipython",
    "version": 3
   },
   "file_extension": ".py",
   "mimetype": "text/x-python",
   "name": "python",
   "nbconvert_exporter": "python",
   "pygments_lexer": "ipython3",
   "version": "3.9.7"
  }
 },
 "nbformat": 4,
 "nbformat_minor": 5
}
