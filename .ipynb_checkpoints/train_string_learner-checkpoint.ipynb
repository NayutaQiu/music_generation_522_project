{
 "cells": [
  {
   "cell_type": "code",
   "execution_count": 23,
   "id": "ed1c5167",
   "metadata": {},
   "outputs": [
    {
     "name": "stdout",
     "output_type": "stream",
     "text": [
      "The autoreload extension is already loaded. To reload it, use:\n",
      "  %reload_ext autoreload\n"
     ]
    }
   ],
   "source": [
    "%load_ext autoreload\n",
    "%autoreload 2\n",
    "from dataset import iterable_dataset, vae_feature_dataset\n",
    "from models.music_generation_gru import MusicGRU\n",
    "import os\n",
    "from utils import training_rnn, data_reading\n",
    "import torch\n",
    "from torch.utils.data import DataLoader\n",
    "import pickle\n",
    "import matplotlib.pyplot as plt\n",
    "from utils import data_reading, music_generation\n",
    "from models import feature_prediction_gru\n",
    "from dataset import iterable_dataset"
   ]
  },
  {
   "cell_type": "code",
   "execution_count": 31,
   "id": "742cb84e",
   "metadata": {},
   "outputs": [],
   "source": [
    "FEATURE_DIRPATH = \"./saved_model_and_data/transformed_features/strings\"\n",
    "TRAIN_SPLIT = 0.95\n",
    "SEQ_LEN = 48\n",
    "RESOLUTION = 12\n",
    "TRACK_ORDER = [\"Strings\", \"Piano\"]\n",
    "FILES_TO_READ = 99999\n",
    "BATCH_SIZE = 64\n",
    "LATENT_SIZE = 513\n",
    "HIDDEN_SIZE = 512\n",
    "N_LAYER = 3\n",
    "DEVICE = torch.device('cuda' if torch.cuda.is_available() else 'cpu')\n",
    "LR_LAMBDA = 1\n",
    "LR = 0.0001\n",
    "ALPHA = 0\n",
    "AUTO_SAVE = False\n",
    "SAVE_ON_EPOCH = 1"
   ]
  },
  {
   "cell_type": "code",
   "execution_count": 32,
   "id": "44b8261d",
   "metadata": {},
   "outputs": [],
   "source": [
    "all_feature_files = data_reading.read_all_npys(FEATURE_DIRPATH, True)"
   ]
  },
  {
   "cell_type": "code",
   "execution_count": 33,
   "id": "6f25e129",
   "metadata": {},
   "outputs": [],
   "source": [
    "train_len = round(len(all_feature_files)*TRAIN_SPLIT)\n",
    "train_files_list = all_feature_files[:train_len]\n",
    "test_files_list = all_feature_files[train_len:]"
   ]
  },
  {
   "cell_type": "code",
   "execution_count": 34,
   "id": "3a2cbf54",
   "metadata": {},
   "outputs": [],
   "source": [
    "train_dataset = vae_feature_dataset.IterableSongDataset(train_files_list, SEQ_LEN, TRACK_ORDER, FILES_TO_READ, RESOLUTION)\n",
    "test_dataset = vae_feature_dataset.IterableSongDataset(test_files_list, SEQ_LEN, TRACK_ORDER, FILES_TO_READ, RESOLUTION)\n",
    "train_loader = DataLoader(train_dataset, batch_size = BATCH_SIZE, drop_last=True)\n",
    "test_loader = DataLoader(test_dataset, batch_size = BATCH_SIZE, drop_last=True)"
   ]
  },
  {
   "cell_type": "code",
   "execution_count": 36,
   "id": "680cfc83",
   "metadata": {},
   "outputs": [],
   "source": [
    "model = feature_prediction_gru.FeaturePredictionGRU([\"Strings\"], LATENT_SIZE, HIDDEN_SIZE, BATCH_SIZE, N_LAYER, DEVICE).to(DEVICE)"
   ]
  },
  {
   "cell_type": "code",
   "execution_count": 37,
   "id": "5efd99f0",
   "metadata": {},
   "outputs": [],
   "source": [
    "optimizer = torch.optim.Adam(model.parameters(), lr=LR)\n",
    "scheduler = torch.optim.lr_scheduler.LambdaLR(optimizer, lr_lambda = lambda epoch: LR_LAMBDA ** epoch)\n",
    "criterion = torch.nn.MSELoss()"
   ]
  },
  {
   "cell_type": "code",
   "execution_count": null,
   "id": "47c1bbe0",
   "metadata": {},
   "outputs": [
    {
     "name": "stdout",
     "output_type": "stream",
     "text": [
      "[0.0001]\n",
      "start test\n",
      "Epoch 1, Train Loss: 0.3791412612979446, Test Loss: 0.36900058117779816, Time: 2022-04-26 14:19:36.964439\n",
      "[0.0001]\n",
      "start test\n",
      "Epoch 2, Train Loss: 0.37565004253556944, Test Loss: 0.36684872887351294, Time: 2022-04-26 14:19:48.701939\n",
      "[0.0001]\n",
      "start test\n",
      "Epoch 3, Train Loss: 0.3724637741302427, Test Loss: 0.3648732033642856, Time: 2022-04-26 14:20:00.445439\n",
      "[0.0001]\n",
      "start test\n",
      "Epoch 4, Train Loss: 0.36920600140829224, Test Loss: 0.3628930381753228, Time: 2022-04-26 14:20:12.180439\n",
      "[0.0001]\n",
      "start test\n",
      "Epoch 5, Train Loss: 0.3658336512567873, Test Loss: 0.3608522374521602, Time: 2022-04-26 14:20:23.959439\n",
      "[0.0001]\n",
      "start test\n",
      "Epoch 6, Train Loss: 0.36234462112894555, Test Loss: 0.35874282771890814, Time: 2022-04-26 14:20:35.799939\n",
      "[0.0001]\n",
      "start test\n",
      "Epoch 7, Train Loss: 0.35867569281309136, Test Loss: 0.3565499240701849, Time: 2022-04-26 14:20:47.646441\n",
      "[0.0001]\n",
      "start test\n",
      "Epoch 8, Train Loss: 0.35478605414736325, Test Loss: 0.35436452383344824, Time: 2022-04-26 14:20:59.472439\n",
      "[0.0001]\n",
      "start test\n",
      "Epoch 9, Train Loss: 0.35074453225350494, Test Loss: 0.3523578250950033, Time: 2022-04-26 14:21:11.322439\n",
      "[0.0001]\n",
      "start test\n",
      "Epoch 10, Train Loss: 0.346656561109692, Test Loss: 0.35051144524054095, Time: 2022-04-26 14:21:23.226438\n",
      "[0.0001]\n",
      "start test\n",
      "Epoch 11, Train Loss: 0.34257092951880813, Test Loss: 0.3487531014464118, Time: 2022-04-26 14:21:35.188939\n",
      "[0.0001]\n",
      "start test\n",
      "Epoch 12, Train Loss: 0.33853064858800425, Test Loss: 0.3470547605644573, Time: 2022-04-26 14:21:47.139939\n",
      "[0.0001]\n",
      "start test\n",
      "Epoch 13, Train Loss: 0.3345662427457023, Test Loss: 0.3453373299403624, Time: 2022-04-26 14:21:59.151439\n",
      "[0.0001]\n",
      "start test\n",
      "Epoch 14, Train Loss: 0.3306768001255831, Test Loss: 0.34370836886492645, Time: 2022-04-26 14:22:11.232940\n",
      "[0.0001]\n",
      "start test\n",
      "Epoch 15, Train Loss: 0.3268612906760514, Test Loss: 0.34218698333610187, Time: 2022-04-26 14:22:23.302939\n",
      "[0.0001]\n",
      "start test\n",
      "Epoch 16, Train Loss: 0.3230965844404076, Test Loss: 0.34075104512951593, Time: 2022-04-26 14:22:35.489439\n",
      "[0.0001]\n",
      "start test\n",
      "Epoch 17, Train Loss: 0.3194131485729421, Test Loss: 0.3394308659163388, Time: 2022-04-26 14:22:47.687439\n",
      "[0.0001]\n",
      "start test\n",
      "Epoch 18, Train Loss: 0.31580360823474224, Test Loss: 0.3382486240430312, Time: 2022-04-26 14:22:59.911439\n",
      "[0.0001]\n",
      "start test\n",
      "Epoch 19, Train Loss: 0.3122858570720912, Test Loss: 0.33701175993139093, Time: 2022-04-26 14:23:12.021939\n",
      "[0.0001]\n",
      "start test\n",
      "Epoch 20, Train Loss: 0.30887629543718004, Test Loss: 0.3359231799840927, Time: 2022-04-26 14:23:24.017939\n",
      "[0.0001]\n",
      "start test\n",
      "Epoch 21, Train Loss: 0.3055909967394237, Test Loss: 0.3348559791391546, Time: 2022-04-26 14:23:36.029439\n",
      "[0.0001]\n",
      "start test\n",
      "Epoch 22, Train Loss: 0.3023742862504805, Test Loss: 0.33381175182082434, Time: 2022-04-26 14:23:48.125439\n",
      "[0.0001]\n",
      "start test\n",
      "Epoch 23, Train Loss: 0.29932111201551853, Test Loss: 0.33253745192831213, Time: 2022-04-26 14:24:00.153939\n",
      "[0.0001]\n",
      "start test\n",
      "Epoch 24, Train Loss: 0.29631304101780126, Test Loss: 0.3318752185864882, Time: 2022-04-26 14:24:12.215939\n",
      "[0.0001]\n",
      "start test\n",
      "Epoch 25, Train Loss: 0.29341239167898187, Test Loss: 0.33060149306600745, Time: 2022-04-26 14:24:24.215439\n",
      "[0.0001]\n"
     ]
    }
   ],
   "source": [
    "EPOCH = 80\n",
    "train_losses, test_losses = training_rnn.training_rnn(model, optimizer, scheduler, criterion, train_loader, test_loader, EPOCH, DEVICE, BATCH_SIZE, \n",
    "                         ALPHA, AUTO_SAVE, SAVE_ON_EPOCH)"
   ]
  },
  {
   "cell_type": "code",
   "execution_count": null,
   "id": "734bf519",
   "metadata": {},
   "outputs": [],
   "source": [
    "plt.rcParams[\"figure.figsize\"] = (15,15)\n",
    "plt.plot(train_losses, label = 'Train Loss')\n",
    "plt.plot(test_losses, label = 'Test Loss')\n",
    "plt.xlabel('Epoch')\n",
    "plt.ylabel('Loss')\n",
    "plt.legend()\n"
   ]
  },
  {
   "cell_type": "code",
   "execution_count": null,
   "id": "3c8c4cb8",
   "metadata": {},
   "outputs": [],
   "source": [
    "STRINGS_SAVE_PATH = f\"./saved_model_and_data/learner/strings_based_on_piano/string_learner_epoch{EPOCH}\"\n",
    "torch.save(model.state_dict(), STRINGS_SAVE_PATH) "
   ]
  }
 ],
 "metadata": {
  "kernelspec": {
   "display_name": "Python 3 (ipykernel)",
   "language": "python",
   "name": "python3"
  },
  "language_info": {
   "codemirror_mode": {
    "name": "ipython",
    "version": 3
   },
   "file_extension": ".py",
   "mimetype": "text/x-python",
   "name": "python",
   "nbconvert_exporter": "python",
   "pygments_lexer": "ipython3",
   "version": "3.9.7"
  }
 },
 "nbformat": 4,
 "nbformat_minor": 5
}
