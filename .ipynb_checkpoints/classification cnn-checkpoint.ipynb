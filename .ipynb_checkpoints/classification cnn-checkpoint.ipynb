{
 "cells": [
  {
   "cell_type": "code",
   "execution_count": 1,
   "id": "64f41a58",
   "metadata": {},
   "outputs": [],
   "source": [
    "#let's calculate the average time step length of our dataset"
   ]
  },
  {
   "cell_type": "code",
   "execution_count": 2,
   "id": "a13c9f6b",
   "metadata": {},
   "outputs": [],
   "source": [
    "%load_ext autoreload\n",
    "%autoreload 2"
   ]
  },
  {
   "cell_type": "code",
   "execution_count": 154,
   "id": "3388e924",
   "metadata": {},
   "outputs": [],
   "source": [
    "from utils import data_reading, music_generation\n",
    "from models import music_generation_gru\n",
    "import os\n",
    "import torch\n",
    "import pickle\n",
    "import numpy as np\n",
    "import matplotlib.pyplot as plt\n",
    "PROJECT_DIR =\"D:/522 project\"\n",
    "PPR_DIR = \"lpd_5_pianoroll\"\n",
    "SAVE_DIR = \"./gru_unnormalized_piano/music\"\n",
    "PATH = os.path.join(PROJECT_DIR, PPR_DIR)\n",
    "INSTRUMENTS = [\"Piano\"]\n",
    "RESOLUTION = 12\n",
    "TRAIN_SPLIT = 0.8\n",
    "BATCH_SIZE = 64\n",
    "DEVICE = torch.device('cuda' if torch.cuda.is_available() else 'cpu')"
   ]
  },
  {
   "cell_type": "code",
   "execution_count": 119,
   "id": "9c4595e6",
   "metadata": {},
   "outputs": [],
   "source": [
    "all_file_paths = data_reading.read_all_npzs(PATH, True)\n",
    "train_file_paths = all_file_paths[:round(len(all_file_paths)*TRAIN_SPLIT)]\n",
    "test_file_paths = all_file_paths[round(len(all_file_paths)*TRAIN_SPLIT):]"
   ]
  },
  {
   "cell_type": "code",
   "execution_count": 120,
   "id": "ae5844b6",
   "metadata": {},
   "outputs": [],
   "source": [
    "pprs = data_reading.read_and_preprocess_pianorolls(train_file_paths[:1000], SEQ_LEN, RESOLUTION, False)"
   ]
  },
  {
   "cell_type": "code",
   "execution_count": 121,
   "id": "4ead1d8a",
   "metadata": {},
   "outputs": [],
   "source": [
    "total_length = 0\n",
    "for pianoroll in pprs:\n",
    "    total_length+=pianoroll.get_max_length()"
   ]
  },
  {
   "cell_type": "code",
   "execution_count": 122,
   "id": "1ef03518",
   "metadata": {},
   "outputs": [
    {
     "name": "stdout",
     "output_type": "stream",
     "text": [
      "4939584\n"
     ]
    }
   ],
   "source": [
    "print(total_length)"
   ]
  },
  {
   "cell_type": "code",
   "execution_count": 123,
   "id": "01ad18a3",
   "metadata": {},
   "outputs": [],
   "source": [
    "average_length = total_length/len(pprs)"
   ]
  },
  {
   "cell_type": "code",
   "execution_count": 124,
   "id": "5a71f217",
   "metadata": {},
   "outputs": [
    {
     "data": {
      "text/plain": [
       "4939.584"
      ]
     },
     "execution_count": 124,
     "metadata": {},
     "output_type": "execute_result"
    }
   ],
   "source": [
    "average_length"
   ]
  },
  {
   "cell_type": "code",
   "execution_count": 125,
   "id": "d5adbc46",
   "metadata": {},
   "outputs": [],
   "source": [
    "average_length = 5000"
   ]
  },
  {
   "cell_type": "code",
   "execution_count": 126,
   "id": "29d8f820",
   "metadata": {},
   "outputs": [],
   "source": [
    "LABEL_DIR = \"D:/522 project/lpd_5/amg\"\n",
    "label_df = data_reading.read_label_tagtraum(LABEL_DIR)"
   ]
  },
  {
   "cell_type": "code",
   "execution_count": 127,
   "id": "21d1a32c",
   "metadata": {},
   "outputs": [],
   "source": [
    "LPD_MSD = \"D:/522 project/lpd_5/cleansed_ids.txt\""
   ]
  },
  {
   "cell_type": "code",
   "execution_count": 128,
   "id": "76226b8a",
   "metadata": {},
   "outputs": [
    {
     "name": "stderr",
     "output_type": "stream",
     "text": [
      "D:\\upenn\\upenn\\spring 2022\\cis522\\project_code\\utils\\data_reading.py:126: ParserWarning: Falling back to the 'python' engine because the 'c' engine does not support regex separators (separators > 1 char and different from '\\s+' are interpreted as regex); you can avoid this warning by specifying engine='python'.\n",
      "  return pd.read_csv(path, sep=\"    \", names=[\"lpd_id\", \"msd_id\"])\n"
     ]
    }
   ],
   "source": [
    "lpd_msd_df = data_reading.read_lpd_to_msd_df(LPD_MSD)"
   ]
  },
  {
   "cell_type": "code",
   "execution_count": 129,
   "id": "2a7488de",
   "metadata": {},
   "outputs": [
    {
     "data": {
      "text/html": [
       "<div>\n",
       "<style scoped>\n",
       "    .dataframe tbody tr th:only-of-type {\n",
       "        vertical-align: middle;\n",
       "    }\n",
       "\n",
       "    .dataframe tbody tr th {\n",
       "        vertical-align: top;\n",
       "    }\n",
       "\n",
       "    .dataframe thead th {\n",
       "        text-align: right;\n",
       "    }\n",
       "</style>\n",
       "<table border=\"1\" class=\"dataframe\">\n",
       "  <thead>\n",
       "    <tr style=\"text-align: right;\">\n",
       "      <th></th>\n",
       "      <th>lpd_id</th>\n",
       "      <th>msd_id</th>\n",
       "    </tr>\n",
       "  </thead>\n",
       "  <tbody>\n",
       "    <tr>\n",
       "      <th>0</th>\n",
       "      <td>cd3b9c8bb118575bcd712cffdba85fce</td>\n",
       "      <td>TRRNARX128F4264AEB</td>\n",
       "    </tr>\n",
       "    <tr>\n",
       "      <th>1</th>\n",
       "      <td>d8392424ea57a0fe6f65447680924d37</td>\n",
       "      <td>TRWMHMP128EF34293F</td>\n",
       "    </tr>\n",
       "    <tr>\n",
       "      <th>2</th>\n",
       "      <td>468be2f5dd31a1ba444b8018d8e8c7ad</td>\n",
       "      <td>TRWOLRE128F427D710</td>\n",
       "    </tr>\n",
       "    <tr>\n",
       "      <th>3</th>\n",
       "      <td>e6189e77aaca069eeaee516d1dd49995</td>\n",
       "      <td>TRAPFCP128F92D772E</td>\n",
       "    </tr>\n",
       "    <tr>\n",
       "      <th>4</th>\n",
       "      <td>cab3e200b884e453f9c035f4f28a2da7</td>\n",
       "      <td>TRBOEFO128F92FC62E</td>\n",
       "    </tr>\n",
       "    <tr>\n",
       "      <th>...</th>\n",
       "      <td>...</td>\n",
       "      <td>...</td>\n",
       "    </tr>\n",
       "    <tr>\n",
       "      <th>21420</th>\n",
       "      <td>158b2bd230ec52158b8b7ae43664ea96</td>\n",
       "      <td>TRFOUAP128E078C216</td>\n",
       "    </tr>\n",
       "    <tr>\n",
       "      <th>21421</th>\n",
       "      <td>151e3434252a1cf610a468696cc7b155</td>\n",
       "      <td>TRVPWBR128F9311545</td>\n",
       "    </tr>\n",
       "    <tr>\n",
       "      <th>21422</th>\n",
       "      <td>2ae0bf9cb01bd4848a7af550e55871c1</td>\n",
       "      <td>TRCVATF128F425E48A</td>\n",
       "    </tr>\n",
       "    <tr>\n",
       "      <th>21423</th>\n",
       "      <td>ae12a6b7d61a2facc8d57b5b9a593189</td>\n",
       "      <td>TRJHLGW128F429BC32</td>\n",
       "    </tr>\n",
       "    <tr>\n",
       "      <th>21424</th>\n",
       "      <td>6823b02109f413f9a377f76f510d1854</td>\n",
       "      <td>TRRSWEX12903CE4924</td>\n",
       "    </tr>\n",
       "  </tbody>\n",
       "</table>\n",
       "<p>21425 rows × 2 columns</p>\n",
       "</div>"
      ],
      "text/plain": [
       "                                 lpd_id              msd_id\n",
       "0      cd3b9c8bb118575bcd712cffdba85fce  TRRNARX128F4264AEB\n",
       "1      d8392424ea57a0fe6f65447680924d37  TRWMHMP128EF34293F\n",
       "2      468be2f5dd31a1ba444b8018d8e8c7ad  TRWOLRE128F427D710\n",
       "3      e6189e77aaca069eeaee516d1dd49995  TRAPFCP128F92D772E\n",
       "4      cab3e200b884e453f9c035f4f28a2da7  TRBOEFO128F92FC62E\n",
       "...                                 ...                 ...\n",
       "21420  158b2bd230ec52158b8b7ae43664ea96  TRFOUAP128E078C216\n",
       "21421  151e3434252a1cf610a468696cc7b155  TRVPWBR128F9311545\n",
       "21422  2ae0bf9cb01bd4848a7af550e55871c1  TRCVATF128F425E48A\n",
       "21423  ae12a6b7d61a2facc8d57b5b9a593189  TRJHLGW128F429BC32\n",
       "21424  6823b02109f413f9a377f76f510d1854  TRRSWEX12903CE4924\n",
       "\n",
       "[21425 rows x 2 columns]"
      ]
     },
     "execution_count": 129,
     "metadata": {},
     "output_type": "execute_result"
    }
   ],
   "source": [
    "lpd_msd_df"
   ]
  },
  {
   "cell_type": "code",
   "execution_count": 130,
   "id": "5c957bf9",
   "metadata": {},
   "outputs": [
    {
     "data": {
      "text/html": [
       "<div>\n",
       "<style scoped>\n",
       "    .dataframe tbody tr th:only-of-type {\n",
       "        vertical-align: middle;\n",
       "    }\n",
       "\n",
       "    .dataframe tbody tr th {\n",
       "        vertical-align: top;\n",
       "    }\n",
       "\n",
       "    .dataframe thead th {\n",
       "        text-align: right;\n",
       "    }\n",
       "</style>\n",
       "<table border=\"1\" class=\"dataframe\">\n",
       "  <thead>\n",
       "    <tr style=\"text-align: right;\">\n",
       "      <th></th>\n",
       "      <th>id</th>\n",
       "      <th>genre</th>\n",
       "    </tr>\n",
       "  </thead>\n",
       "  <tbody>\n",
       "    <tr>\n",
       "      <th>0</th>\n",
       "      <td>TRONNCI128F93355A3</td>\n",
       "      <td>Blues</td>\n",
       "    </tr>\n",
       "    <tr>\n",
       "      <th>1</th>\n",
       "      <td>TRNXGVM128F42B743D</td>\n",
       "      <td>Blues</td>\n",
       "    </tr>\n",
       "    <tr>\n",
       "      <th>2</th>\n",
       "      <td>TRRNRTP12903CAE283</td>\n",
       "      <td>Blues</td>\n",
       "    </tr>\n",
       "    <tr>\n",
       "      <th>3</th>\n",
       "      <td>TRIUIAA128F9331BA8</td>\n",
       "      <td>Blues</td>\n",
       "    </tr>\n",
       "    <tr>\n",
       "      <th>4</th>\n",
       "      <td>TRHVWEY128F424B2B8</td>\n",
       "      <td>Blues</td>\n",
       "    </tr>\n",
       "    <tr>\n",
       "      <th>...</th>\n",
       "      <td>...</td>\n",
       "      <td>...</td>\n",
       "    </tr>\n",
       "    <tr>\n",
       "      <th>109</th>\n",
       "      <td>TRLCLET12903CE48F0</td>\n",
       "      <td>Vocal</td>\n",
       "    </tr>\n",
       "    <tr>\n",
       "      <th>110</th>\n",
       "      <td>TRBGHEP128F14AD194</td>\n",
       "      <td>Vocal</td>\n",
       "    </tr>\n",
       "    <tr>\n",
       "      <th>111</th>\n",
       "      <td>TRAJMBU128F149332A</td>\n",
       "      <td>Vocal</td>\n",
       "    </tr>\n",
       "    <tr>\n",
       "      <th>112</th>\n",
       "      <td>TRJNOFL128F425EEBC</td>\n",
       "      <td>Vocal</td>\n",
       "    </tr>\n",
       "    <tr>\n",
       "      <th>113</th>\n",
       "      <td>TRRSWEX12903CE4924</td>\n",
       "      <td>Vocal</td>\n",
       "    </tr>\n",
       "  </tbody>\n",
       "</table>\n",
       "<p>7323 rows × 2 columns</p>\n",
       "</div>"
      ],
      "text/plain": [
       "                     id  genre\n",
       "0    TRONNCI128F93355A3  Blues\n",
       "1    TRNXGVM128F42B743D  Blues\n",
       "2    TRRNRTP12903CAE283  Blues\n",
       "3    TRIUIAA128F9331BA8  Blues\n",
       "4    TRHVWEY128F424B2B8  Blues\n",
       "..                  ...    ...\n",
       "109  TRLCLET12903CE48F0  Vocal\n",
       "110  TRBGHEP128F14AD194  Vocal\n",
       "111  TRAJMBU128F149332A  Vocal\n",
       "112  TRJNOFL128F425EEBC  Vocal\n",
       "113  TRRSWEX12903CE4924  Vocal\n",
       "\n",
       "[7323 rows x 2 columns]"
      ]
     },
     "execution_count": 130,
     "metadata": {},
     "output_type": "execute_result"
    }
   ],
   "source": [
    "label_df"
   ]
  },
  {
   "cell_type": "code",
   "execution_count": 133,
   "id": "44787681",
   "metadata": {},
   "outputs": [],
   "source": [
    "lpd_msd_label_df = label_df.merge(lpd_msd_df, left_on=\"id\", right_on=\"msd_id\", how=\"left\")"
   ]
  },
  {
   "cell_type": "code",
   "execution_count": 139,
   "id": "3891d048",
   "metadata": {},
   "outputs": [],
   "source": [
    "lpd_msd_label_df = lpd_msd_label_df.set_index(\"lpd_id\")"
   ]
  },
  {
   "cell_type": "code",
   "execution_count": 143,
   "id": "0a82a898",
   "metadata": {},
   "outputs": [
    {
     "data": {
      "text/plain": [
       "'Folk'"
      ]
     },
     "execution_count": 143,
     "metadata": {},
     "output_type": "execute_result"
    }
   ],
   "source": [
    "lpd_msd_label_df.loc[\"8d9f26697d76c4334612c213669a0728\", \"genre\"][0]"
   ]
  },
  {
   "cell_type": "code",
   "execution_count": 69,
   "id": "5612e766",
   "metadata": {},
   "outputs": [
    {
     "data": {
      "text/plain": [
       "array(['Blues', 'Country', 'Electronic', 'Folk', 'International', 'Jazz',\n",
       "       'Latin', 'New-Age', 'Rock', 'Rap', 'Reggae', 'RnB', 'Vocal'],\n",
       "      dtype=object)"
      ]
     },
     "execution_count": 69,
     "metadata": {},
     "output_type": "execute_result"
    }
   ],
   "source": [
    "label_df[\"genre\"].unique()"
   ]
  },
  {
   "cell_type": "code",
   "execution_count": 70,
   "id": "de4dba16",
   "metadata": {},
   "outputs": [
    {
     "data": {
      "text/plain": [
       "Rock             4345\n",
       "Electronic        889\n",
       "Country           512\n",
       "RnB               397\n",
       "Latin             360\n",
       "International     206\n",
       "Rap               164\n",
       "Jazz              157\n",
       "Vocal             114\n",
       "New-Age            67\n",
       "Folk               45\n",
       "Reggae             45\n",
       "Blues              22\n",
       "Name: genre, dtype: int64"
      ]
     },
     "execution_count": 70,
     "metadata": {},
     "output_type": "execute_result"
    }
   ],
   "source": [
    "lpd_label_df[\"genre\"].value_counts()"
   ]
  },
  {
   "cell_type": "code",
   "execution_count": 71,
   "id": "5c2156cf",
   "metadata": {},
   "outputs": [],
   "source": [
    "lpd_label_df.loc[lpd_label_df[\"genre\"] == \"Folk\", \"genre\"] = \"Country\"\n"
   ]
  },
  {
   "cell_type": "code",
   "execution_count": 72,
   "id": "6ba7977c",
   "metadata": {},
   "outputs": [],
   "source": [
    "lpd_label_df.loc[lpd_label_df[\"genre\"] == \"Blues\", \"genre\"] = \"Jazz\"\n",
    "lpd_label_df.loc[lpd_label_df[\"genre\"] == \"Reggae\", \"genre\"] = \"Jazz\""
   ]
  },
  {
   "cell_type": "code",
   "execution_count": 73,
   "id": "6efbf434",
   "metadata": {},
   "outputs": [],
   "source": [
    "#merge folk country, blues jazz reggae, "
   ]
  },
  {
   "cell_type": "code",
   "execution_count": 74,
   "id": "07b7c402",
   "metadata": {},
   "outputs": [
    {
     "data": {
      "text/plain": [
       "Rock             4345\n",
       "Electronic        889\n",
       "Country           557\n",
       "RnB               397\n",
       "Latin             360\n",
       "Jazz              224\n",
       "International     206\n",
       "Rap               164\n",
       "Vocal             114\n",
       "New-Age            67\n",
       "Name: genre, dtype: int64"
      ]
     },
     "execution_count": 74,
     "metadata": {},
     "output_type": "execute_result"
    }
   ],
   "source": [
    "lpd_label_df[\"genre\"].value_counts()"
   ]
  },
  {
   "cell_type": "code",
   "execution_count": 75,
   "id": "5f092bab",
   "metadata": {},
   "outputs": [],
   "source": [
    "from sklearn.preprocessing import LabelEncoder "
   ]
  },
  {
   "cell_type": "code",
   "execution_count": 77,
   "id": "3ad39692",
   "metadata": {},
   "outputs": [],
   "source": [
    "label_encoder = LabelEncoder()\n",
    "label = label_encoder.fit_transform(lpd_label_df[\"genre\"])"
   ]
  },
  {
   "cell_type": "code",
   "execution_count": 79,
   "id": "6914721b",
   "metadata": {},
   "outputs": [],
   "source": [
    "lpd_label_df[\"label\"] = label"
   ]
  },
  {
   "cell_type": "code",
   "execution_count": 84,
   "id": "f245e4d3",
   "metadata": {},
   "outputs": [
    {
     "data": {
      "text/plain": [
       "array(['Country', 'Electronic', 'International', 'Jazz', 'Latin',\n",
       "       'New-Age', 'Rap', 'RnB', 'Rock', 'Vocal'], dtype=object)"
      ]
     },
     "execution_count": 84,
     "metadata": {},
     "output_type": "execute_result"
    }
   ],
   "source": [
    "label_encoder.classes_"
   ]
  },
  {
   "cell_type": "code",
   "execution_count": 85,
   "id": "6a9eccc8",
   "metadata": {},
   "outputs": [],
   "source": [
    "class_weight = []\n",
    "for x in label_encoder.classes_:\n",
    "    class_weight.append(len(lpd_label_df)/ lpd_label_df[\"genre\"].value_counts()[x])"
   ]
  },
  {
   "cell_type": "code",
   "execution_count": 86,
   "id": "67aed9c9",
   "metadata": {},
   "outputs": [
    {
     "data": {
      "text/plain": [
       "[13.14721723518851,\n",
       " 8.23734533183352,\n",
       " 35.54854368932039,\n",
       " 32.691964285714285,\n",
       " 20.341666666666665,\n",
       " 109.29850746268657,\n",
       " 44.65243902439025,\n",
       " 18.445843828715365,\n",
       " 1.685385500575374,\n",
       " 64.23684210526316]"
      ]
     },
     "execution_count": 86,
     "metadata": {},
     "output_type": "execute_result"
    }
   ],
   "source": [
    "class_weight"
   ]
  },
  {
   "cell_type": "code",
   "execution_count": 98,
   "id": "a811cc32",
   "metadata": {},
   "outputs": [],
   "source": [
    "lpd_label_df = lpd_label_df.set_index(\"lpd_id\")"
   ]
  },
  {
   "cell_type": "code",
   "execution_count": 94,
   "id": "510471de",
   "metadata": {},
   "outputs": [],
   "source": [
    "from models.music_classification_cnn import MusicClassificationCNN\n",
    "from dataset.iterable_classification_dataset import IterableClassificationSongDataset"
   ]
  },
  {
   "cell_type": "code",
   "execution_count": 100,
   "id": "948448dd",
   "metadata": {},
   "outputs": [],
   "source": [
    "WINDOW_LEN = 5000"
   ]
  },
  {
   "cell_type": "code",
   "execution_count": 103,
   "id": "e3afe580",
   "metadata": {},
   "outputs": [],
   "source": [
    "from torch.utils.data import DataLoader"
   ]
  },
  {
   "cell_type": "code",
   "execution_count": 117,
   "id": "a43ded5f",
   "metadata": {},
   "outputs": [
    {
     "data": {
      "text/html": [
       "<div>\n",
       "<style scoped>\n",
       "    .dataframe tbody tr th:only-of-type {\n",
       "        vertical-align: middle;\n",
       "    }\n",
       "\n",
       "    .dataframe tbody tr th {\n",
       "        vertical-align: top;\n",
       "    }\n",
       "\n",
       "    .dataframe thead th {\n",
       "        text-align: right;\n",
       "    }\n",
       "</style>\n",
       "<table border=\"1\" class=\"dataframe\">\n",
       "  <thead>\n",
       "    <tr style=\"text-align: right;\">\n",
       "      <th></th>\n",
       "      <th>genre</th>\n",
       "      <th>label</th>\n",
       "    </tr>\n",
       "    <tr>\n",
       "      <th>lpd_id</th>\n",
       "      <th></th>\n",
       "      <th></th>\n",
       "    </tr>\n",
       "  </thead>\n",
       "  <tbody>\n",
       "    <tr>\n",
       "      <th>8d9f26697d76c4334612c213669a0728</th>\n",
       "      <td>Country</td>\n",
       "      <td>0</td>\n",
       "    </tr>\n",
       "    <tr>\n",
       "      <th>8d9f26697d76c4334612c213669a0728</th>\n",
       "      <td>Rock</td>\n",
       "      <td>8</td>\n",
       "    </tr>\n",
       "    <tr>\n",
       "      <th>8d9f26697d76c4334612c213669a0728</th>\n",
       "      <td>RnB</td>\n",
       "      <td>7</td>\n",
       "    </tr>\n",
       "    <tr>\n",
       "      <th>8d9f26697d76c4334612c213669a0728</th>\n",
       "      <td>RnB</td>\n",
       "      <td>7</td>\n",
       "    </tr>\n",
       "  </tbody>\n",
       "</table>\n",
       "</div>"
      ],
      "text/plain": [
       "                                    genre  label\n",
       "lpd_id                                          \n",
       "8d9f26697d76c4334612c213669a0728  Country      0\n",
       "8d9f26697d76c4334612c213669a0728     Rock      8\n",
       "8d9f26697d76c4334612c213669a0728      RnB      7\n",
       "8d9f26697d76c4334612c213669a0728      RnB      7"
      ]
     },
     "execution_count": 117,
     "metadata": {},
     "output_type": "execute_result"
    }
   ],
   "source": [
    "lpd_label_df.loc[\"8d9f26697d76c4334612c213669a0728\"]"
   ]
  },
  {
   "cell_type": "code",
   "execution_count": 105,
   "id": "02177619",
   "metadata": {},
   "outputs": [],
   "source": [
    "train_piano_dataset = IterableClassificationSongDataset(train_file_paths, WINDOW_LEN, RESOLUTION, INSTRUMENTS, lpd_label_df)\n",
    "train_piano_loader = DataLoader(train_piano_dataset, batch_size = BATCH_SIZE, drop_last=True)\n",
    "test_piano_dataset =  IterableClassificationSongDataset(test_file_paths, WINDOW_LEN, RESOLUTION, INSTRUMENTS, lpd_label_df)\n",
    "test_piano_loader = DataLoader(test_piano_dataset, batch_size = BATCH_SIZE, drop_last=True)"
   ]
  },
  {
   "cell_type": "code",
   "execution_count": 172,
   "id": "8ee086f0",
   "metadata": {},
   "outputs": [],
   "source": [
    "model = MusicClassificationCNN(train_piano_dataset.get_track_order(), len(class_weight), True).to(DEVICE)"
   ]
  },
  {
   "cell_type": "code",
   "execution_count": 188,
   "id": "927df040",
   "metadata": {},
   "outputs": [
    {
     "ename": "ValueError",
     "evalue": "invalid type: 'float'",
     "output_type": "error",
     "traceback": [
      "\u001b[1;31m---------------------------------------------------------------------------\u001b[0m",
      "\u001b[1;31mValueError\u001b[0m                                Traceback (most recent call last)",
      "\u001b[1;32m~\\AppData\\Local\\Temp/ipykernel_17356/2346560929.py\u001b[0m in \u001b[0;36m<module>\u001b[1;34m\u001b[0m\n\u001b[1;32m----> 1\u001b[1;33m \u001b[0mcriterion\u001b[0m \u001b[1;33m=\u001b[0m \u001b[0mtorch\u001b[0m\u001b[1;33m.\u001b[0m\u001b[0mnn\u001b[0m\u001b[1;33m.\u001b[0m\u001b[0mCrossEntropyLoss\u001b[0m\u001b[1;33m(\u001b[0m\u001b[0mweight\u001b[0m \u001b[1;33m=\u001b[0m \u001b[0mtorch\u001b[0m\u001b[1;33m.\u001b[0m\u001b[0mtensor\u001b[0m\u001b[1;33m(\u001b[0m\u001b[0mclass_weight\u001b[0m\u001b[1;33m)\u001b[0m\u001b[1;33m.\u001b[0m\u001b[0mtype\u001b[0m\u001b[1;33m(\u001b[0m\u001b[0mfloat\u001b[0m\u001b[1;33m)\u001b[0m\u001b[1;33m.\u001b[0m\u001b[0mto\u001b[0m\u001b[1;33m(\u001b[0m\u001b[0mDEVICE\u001b[0m\u001b[1;33m)\u001b[0m\u001b[1;33m)\u001b[0m\u001b[1;33m\u001b[0m\u001b[1;33m\u001b[0m\u001b[0m\n\u001b[0m",
      "\u001b[1;31mValueError\u001b[0m: invalid type: 'float'"
     ]
    }
   ],
   "source": [
    "criterion = torch.nn.CrossEntropyLoss(weight = torch.tensor(class_weight).float().to(DEVICE))"
   ]
  },
  {
   "cell_type": "code",
   "execution_count": 185,
   "id": "b6b3d2cd",
   "metadata": {},
   "outputs": [],
   "source": [
    "LR = 0.0001\n",
    "LR_LAMBDA = 1\n",
    "AUTOSAVE = True\n",
    "SAVE_ON_EPOCH = 5\n",
    "optimizer = torch.optim.Adam(model.parameters(), lr=LR)\n",
    "scheduler = torch.optim.lr_scheduler.LambdaLR(optimizer, lr_lambda = lambda epoch: LR_LAMBDA ** epoch)"
   ]
  },
  {
   "cell_type": "code",
   "execution_count": 186,
   "id": "44912390",
   "metadata": {},
   "outputs": [],
   "source": [
    "from utils.training_cnn import training_cnn"
   ]
  },
  {
   "cell_type": "code",
   "execution_count": 187,
   "id": "9b0a3cae",
   "metadata": {},
   "outputs": [
    {
     "name": "stdout",
     "output_type": "stream",
     "text": [
      "[0.0001]\n"
     ]
    },
    {
     "ename": "RuntimeError",
     "evalue": "expected scalar type Float but found Long",
     "output_type": "error",
     "traceback": [
      "\u001b[1;31m---------------------------------------------------------------------------\u001b[0m",
      "\u001b[1;31mRuntimeError\u001b[0m                              Traceback (most recent call last)",
      "\u001b[1;32m~\\AppData\\Local\\Temp/ipykernel_17356/3173245345.py\u001b[0m in \u001b[0;36m<module>\u001b[1;34m\u001b[0m\n\u001b[0;32m      1\u001b[0m \u001b[0mN_EPOCH\u001b[0m \u001b[1;33m=\u001b[0m \u001b[1;36m30\u001b[0m\u001b[1;33m\u001b[0m\u001b[1;33m\u001b[0m\u001b[0m\n\u001b[1;32m----> 2\u001b[1;33m training_cnn(model, optimizer, scheduler, criterion, train_piano_loader, test_piano_loader,\n\u001b[0m\u001b[0;32m      3\u001b[0m             N_EPOCH, DEVICE, AUTOSAVE, SAVE_ON_EPOCH)\n",
      "\u001b[1;32mD:\\upenn\\upenn\\spring 2022\\cis522\\project_code\\utils\\training_cnn.py\u001b[0m in \u001b[0;36mtraining_cnn\u001b[1;34m(model, optimizer, scheduler, criterion, train_dataloader, test_dataloader, n_epoch, device, autosave, save_on_epoch)\u001b[0m\n\u001b[0;32m     44\u001b[0m     \u001b[1;32mfor\u001b[0m \u001b[0mepoch\u001b[0m \u001b[1;32min\u001b[0m \u001b[0mrange\u001b[0m\u001b[1;33m(\u001b[0m\u001b[1;36m1\u001b[0m\u001b[1;33m,\u001b[0m \u001b[0mn_epoch\u001b[0m \u001b[1;33m+\u001b[0m \u001b[1;36m1\u001b[0m\u001b[1;33m)\u001b[0m\u001b[1;33m:\u001b[0m\u001b[1;33m\u001b[0m\u001b[1;33m\u001b[0m\u001b[0m\n\u001b[0;32m     45\u001b[0m         \u001b[0mprint\u001b[0m\u001b[1;33m(\u001b[0m\u001b[0mscheduler\u001b[0m\u001b[1;33m.\u001b[0m\u001b[0mget_last_lr\u001b[0m\u001b[1;33m(\u001b[0m\u001b[1;33m)\u001b[0m\u001b[1;33m)\u001b[0m\u001b[1;33m\u001b[0m\u001b[1;33m\u001b[0m\u001b[0m\n\u001b[1;32m---> 46\u001b[1;33m         \u001b[0mtrain_epoch_loss\u001b[0m \u001b[1;33m=\u001b[0m \u001b[0mtrain_epoch_cnn\u001b[0m\u001b[1;33m(\u001b[0m\u001b[0mtrain_dataloader\u001b[0m\u001b[1;33m,\u001b[0m \u001b[0mmodel\u001b[0m\u001b[1;33m,\u001b[0m \u001b[0mcriterion\u001b[0m\u001b[1;33m,\u001b[0m \u001b[0moptimizer\u001b[0m\u001b[1;33m,\u001b[0m  \u001b[0mdevice\u001b[0m\u001b[1;33m)\u001b[0m\u001b[1;33m\u001b[0m\u001b[1;33m\u001b[0m\u001b[0m\n\u001b[0m\u001b[0;32m     47\u001b[0m         \u001b[0mtrain_losses\u001b[0m\u001b[1;33m.\u001b[0m\u001b[0mappend\u001b[0m\u001b[1;33m(\u001b[0m\u001b[0mtrain_epoch_loss\u001b[0m\u001b[1;33m)\u001b[0m\u001b[1;33m\u001b[0m\u001b[1;33m\u001b[0m\u001b[0m\n\u001b[0;32m     48\u001b[0m         \u001b[1;32mif\u001b[0m \u001b[0mepoch\u001b[0m\u001b[1;33m%\u001b[0m\u001b[0msave_on_epoch\u001b[0m \u001b[1;33m==\u001b[0m \u001b[1;36m0\u001b[0m \u001b[1;32mand\u001b[0m \u001b[0mautosave\u001b[0m\u001b[1;33m:\u001b[0m\u001b[1;33m\u001b[0m\u001b[1;33m\u001b[0m\u001b[0m\n",
      "\u001b[1;32mD:\\upenn\\upenn\\spring 2022\\cis522\\project_code\\utils\\training_cnn.py\u001b[0m in \u001b[0;36mtrain_epoch_cnn\u001b[1;34m(dataloader, model, criterion, optimizer, device)\u001b[0m\n\u001b[0;32m     11\u001b[0m         \u001b[0moptimizer\u001b[0m\u001b[1;33m.\u001b[0m\u001b[0mzero_grad\u001b[0m\u001b[1;33m(\u001b[0m\u001b[1;33m)\u001b[0m\u001b[1;33m\u001b[0m\u001b[1;33m\u001b[0m\u001b[0m\n\u001b[0;32m     12\u001b[0m         \u001b[0moutput\u001b[0m \u001b[1;33m=\u001b[0m \u001b[0mmodel\u001b[0m\u001b[1;33m(\u001b[0m\u001b[0mtrain_x\u001b[0m\u001b[1;33m)\u001b[0m\u001b[1;33m\u001b[0m\u001b[1;33m\u001b[0m\u001b[0m\n\u001b[1;32m---> 13\u001b[1;33m         \u001b[0mloss\u001b[0m \u001b[1;33m=\u001b[0m \u001b[0mcriterion\u001b[0m\u001b[1;33m(\u001b[0m\u001b[0moutput\u001b[0m\u001b[1;33m,\u001b[0m \u001b[0mlabel\u001b[0m\u001b[1;33m)\u001b[0m\u001b[1;33m\u001b[0m\u001b[1;33m\u001b[0m\u001b[0m\n\u001b[0m\u001b[0;32m     14\u001b[0m         \u001b[0mloss\u001b[0m\u001b[1;33m.\u001b[0m\u001b[0mbackward\u001b[0m\u001b[1;33m(\u001b[0m\u001b[1;33m)\u001b[0m\u001b[1;33m\u001b[0m\u001b[1;33m\u001b[0m\u001b[0m\n\u001b[0;32m     15\u001b[0m         \u001b[0moptimizer\u001b[0m\u001b[1;33m.\u001b[0m\u001b[0mstep\u001b[0m\u001b[1;33m(\u001b[0m\u001b[1;33m)\u001b[0m\u001b[1;33m\u001b[0m\u001b[1;33m\u001b[0m\u001b[0m\n",
      "\u001b[1;32mC:\\ProgramData\\Anaconda3\\lib\\site-packages\\torch\\nn\\modules\\module.py\u001b[0m in \u001b[0;36m_call_impl\u001b[1;34m(self, *input, **kwargs)\u001b[0m\n\u001b[0;32m   1108\u001b[0m         if not (self._backward_hooks or self._forward_hooks or self._forward_pre_hooks or _global_backward_hooks\n\u001b[0;32m   1109\u001b[0m                 or _global_forward_hooks or _global_forward_pre_hooks):\n\u001b[1;32m-> 1110\u001b[1;33m             \u001b[1;32mreturn\u001b[0m \u001b[0mforward_call\u001b[0m\u001b[1;33m(\u001b[0m\u001b[1;33m*\u001b[0m\u001b[0minput\u001b[0m\u001b[1;33m,\u001b[0m \u001b[1;33m**\u001b[0m\u001b[0mkwargs\u001b[0m\u001b[1;33m)\u001b[0m\u001b[1;33m\u001b[0m\u001b[1;33m\u001b[0m\u001b[0m\n\u001b[0m\u001b[0;32m   1111\u001b[0m         \u001b[1;31m# Do not call functions when jit is used\u001b[0m\u001b[1;33m\u001b[0m\u001b[1;33m\u001b[0m\u001b[0m\n\u001b[0;32m   1112\u001b[0m         \u001b[0mfull_backward_hooks\u001b[0m\u001b[1;33m,\u001b[0m \u001b[0mnon_full_backward_hooks\u001b[0m \u001b[1;33m=\u001b[0m \u001b[1;33m[\u001b[0m\u001b[1;33m]\u001b[0m\u001b[1;33m,\u001b[0m \u001b[1;33m[\u001b[0m\u001b[1;33m]\u001b[0m\u001b[1;33m\u001b[0m\u001b[1;33m\u001b[0m\u001b[0m\n",
      "\u001b[1;32mC:\\ProgramData\\Anaconda3\\lib\\site-packages\\torch\\nn\\modules\\loss.py\u001b[0m in \u001b[0;36mforward\u001b[1;34m(self, input, target)\u001b[0m\n\u001b[0;32m   1161\u001b[0m \u001b[1;33m\u001b[0m\u001b[0m\n\u001b[0;32m   1162\u001b[0m     \u001b[1;32mdef\u001b[0m \u001b[0mforward\u001b[0m\u001b[1;33m(\u001b[0m\u001b[0mself\u001b[0m\u001b[1;33m,\u001b[0m \u001b[0minput\u001b[0m\u001b[1;33m:\u001b[0m \u001b[0mTensor\u001b[0m\u001b[1;33m,\u001b[0m \u001b[0mtarget\u001b[0m\u001b[1;33m:\u001b[0m \u001b[0mTensor\u001b[0m\u001b[1;33m)\u001b[0m \u001b[1;33m->\u001b[0m \u001b[0mTensor\u001b[0m\u001b[1;33m:\u001b[0m\u001b[1;33m\u001b[0m\u001b[1;33m\u001b[0m\u001b[0m\n\u001b[1;32m-> 1163\u001b[1;33m         return F.cross_entropy(input, target, weight=self.weight,\n\u001b[0m\u001b[0;32m   1164\u001b[0m                                \u001b[0mignore_index\u001b[0m\u001b[1;33m=\u001b[0m\u001b[0mself\u001b[0m\u001b[1;33m.\u001b[0m\u001b[0mignore_index\u001b[0m\u001b[1;33m,\u001b[0m \u001b[0mreduction\u001b[0m\u001b[1;33m=\u001b[0m\u001b[0mself\u001b[0m\u001b[1;33m.\u001b[0m\u001b[0mreduction\u001b[0m\u001b[1;33m,\u001b[0m\u001b[1;33m\u001b[0m\u001b[1;33m\u001b[0m\u001b[0m\n\u001b[0;32m   1165\u001b[0m                                label_smoothing=self.label_smoothing)\n",
      "\u001b[1;32mC:\\ProgramData\\Anaconda3\\lib\\site-packages\\torch\\nn\\functional.py\u001b[0m in \u001b[0;36mcross_entropy\u001b[1;34m(input, target, weight, size_average, ignore_index, reduce, reduction, label_smoothing)\u001b[0m\n\u001b[0;32m   2994\u001b[0m     \u001b[1;32mif\u001b[0m \u001b[0msize_average\u001b[0m \u001b[1;32mis\u001b[0m \u001b[1;32mnot\u001b[0m \u001b[1;32mNone\u001b[0m \u001b[1;32mor\u001b[0m \u001b[0mreduce\u001b[0m \u001b[1;32mis\u001b[0m \u001b[1;32mnot\u001b[0m \u001b[1;32mNone\u001b[0m\u001b[1;33m:\u001b[0m\u001b[1;33m\u001b[0m\u001b[1;33m\u001b[0m\u001b[0m\n\u001b[0;32m   2995\u001b[0m         \u001b[0mreduction\u001b[0m \u001b[1;33m=\u001b[0m \u001b[0m_Reduction\u001b[0m\u001b[1;33m.\u001b[0m\u001b[0mlegacy_get_string\u001b[0m\u001b[1;33m(\u001b[0m\u001b[0msize_average\u001b[0m\u001b[1;33m,\u001b[0m \u001b[0mreduce\u001b[0m\u001b[1;33m)\u001b[0m\u001b[1;33m\u001b[0m\u001b[1;33m\u001b[0m\u001b[0m\n\u001b[1;32m-> 2996\u001b[1;33m     \u001b[1;32mreturn\u001b[0m \u001b[0mtorch\u001b[0m\u001b[1;33m.\u001b[0m\u001b[0m_C\u001b[0m\u001b[1;33m.\u001b[0m\u001b[0m_nn\u001b[0m\u001b[1;33m.\u001b[0m\u001b[0mcross_entropy_loss\u001b[0m\u001b[1;33m(\u001b[0m\u001b[0minput\u001b[0m\u001b[1;33m,\u001b[0m \u001b[0mtarget\u001b[0m\u001b[1;33m,\u001b[0m \u001b[0mweight\u001b[0m\u001b[1;33m,\u001b[0m \u001b[0m_Reduction\u001b[0m\u001b[1;33m.\u001b[0m\u001b[0mget_enum\u001b[0m\u001b[1;33m(\u001b[0m\u001b[0mreduction\u001b[0m\u001b[1;33m)\u001b[0m\u001b[1;33m,\u001b[0m \u001b[0mignore_index\u001b[0m\u001b[1;33m,\u001b[0m \u001b[0mlabel_smoothing\u001b[0m\u001b[1;33m)\u001b[0m\u001b[1;33m\u001b[0m\u001b[1;33m\u001b[0m\u001b[0m\n\u001b[0m\u001b[0;32m   2997\u001b[0m \u001b[1;33m\u001b[0m\u001b[0m\n\u001b[0;32m   2998\u001b[0m \u001b[1;33m\u001b[0m\u001b[0m\n",
      "\u001b[1;31mRuntimeError\u001b[0m: expected scalar type Float but found Long"
     ]
    }
   ],
   "source": [
    "N_EPOCH = 30\n",
    "training_cnn(model, optimizer, scheduler, criterion, train_piano_loader, test_piano_loader,\n",
    "            N_EPOCH, DEVICE, AUTOSAVE, SAVE_ON_EPOCH)"
   ]
  },
  {
   "cell_type": "code",
   "execution_count": null,
   "id": "696da510",
   "metadata": {},
   "outputs": [],
   "source": []
  }
 ],
 "metadata": {
  "kernelspec": {
   "display_name": "Python 3 (ipykernel)",
   "language": "python",
   "name": "python3"
  },
  "language_info": {
   "codemirror_mode": {
    "name": "ipython",
    "version": 3
   },
   "file_extension": ".py",
   "mimetype": "text/x-python",
   "name": "python",
   "nbconvert_exporter": "python",
   "pygments_lexer": "ipython3",
   "version": "3.9.7"
  }
 },
 "nbformat": 4,
 "nbformat_minor": 5
}
