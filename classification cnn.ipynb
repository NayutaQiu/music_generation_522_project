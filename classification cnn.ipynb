{
 "cells": [
  {
   "cell_type": "code",
   "execution_count": 1,
   "id": "64f41a58",
   "metadata": {},
   "outputs": [],
   "source": [
    "#let's calculate the average time step length of our dataset"
   ]
  },
  {
   "cell_type": "code",
   "execution_count": 2,
   "id": "869e4459",
   "metadata": {},
   "outputs": [],
   "source": [
    "%load_ext autoreload\n",
    "%autoreload 2"
   ]
  },
  {
   "cell_type": "code",
   "execution_count": 204,
   "id": "7fcbbbc5",
   "metadata": {},
   "outputs": [],
   "source": [
    "from utils import data_reading, music_generation\n",
    "from models import music_generation_gru\n",
    "import os\n",
    "import torch\n",
    "import pickle\n",
    "import numpy as np\n",
    "import matplotlib.pyplot as plt\n",
    "from models.music_classification_cnn import MusicClassificationCNN\n",
    "from dataset.iterable_classification_dataset import IterableClassificationSongDataset\n",
    "from sklearn.preprocessing import LabelEncoder\n",
    "from torch.utils.data import DataLoader\n",
    "from utils.training_cnn import training_cnn, evaluate_cnn\n",
    "from sklearn.metrics import confusion_matrix\n",
    "from seaborn import heatmap\n",
    "PROJECT_DIR =\"D:/522 project\"\n",
    "PPR_DIR = \"lpd_5_pianoroll\"\n",
    "SAVE_DIR = \"./gru_unnormalized_piano/music\"\n",
    "PATH = os.path.join(PROJECT_DIR, PPR_DIR)\n",
    "INSTRUMENTS = [\"Piano\", \"Drums\", \"Bass\"]\n",
    "RESOLUTION = 12\n",
    "TRAIN_SPLIT = 0.8\n",
    "BATCH_SIZE = 32\n",
    "DEVICE = torch.device('cuda' if torch.cuda.is_available() else 'cpu')\n",
    "TOTAL_FILES = 10000"
   ]
  },
  {
   "cell_type": "code",
   "execution_count": 205,
   "id": "cb82c68a",
   "metadata": {},
   "outputs": [],
   "source": [
    "all_file_paths = data_reading.read_all_npzs(PATH, True)\n",
    "all_file_paths = all_file_paths[:TOTAL_FILES]\n",
    "train_file_paths = all_file_paths[:round(len(all_file_paths)*TRAIN_SPLIT)]\n",
    "test_file_paths = all_file_paths[round(len(all_file_paths)*TRAIN_SPLIT):]"
   ]
  },
  {
   "cell_type": "code",
   "execution_count": 206,
   "id": "0cb59a80",
   "metadata": {},
   "outputs": [],
   "source": [
    "pprs = data_reading.read_and_preprocess_pianorolls(train_file_paths[:1000], 48, RESOLUTION, False)"
   ]
  },
  {
   "cell_type": "code",
   "execution_count": 207,
   "id": "b5b2a690",
   "metadata": {},
   "outputs": [
    {
     "name": "stdout",
     "output_type": "stream",
     "text": [
      "4945.968\n"
     ]
    }
   ],
   "source": [
    "total_length = 0\n",
    "for pianoroll in pprs:\n",
    "    total_length+=pianoroll.get_max_length()\n",
    "average_length = total_length/len(pprs)\n",
    "print(average_length)\n",
    "WINDOW_LENGTH = 5000"
   ]
  },
  {
   "cell_type": "code",
   "execution_count": 208,
   "id": "8b5aefdf",
   "metadata": {},
   "outputs": [
    {
     "name": "stderr",
     "output_type": "stream",
     "text": [
      "D:\\upenn\\upenn\\spring 2022\\cis522\\project_code\\utils\\data_reading.py:143: ParserWarning: Falling back to the 'python' engine because the 'c' engine does not support regex separators (separators > 1 char and different from '\\s+' are interpreted as regex); you can avoid this warning by specifying engine='python'.\n",
      "  return pd.read_csv(path, sep=\"    \", names=[\"lpd_id\", \"msd_id\"])\n"
     ]
    },
    {
     "data": {
      "text/plain": [
       "Rock             4345\n",
       "Electronic        889\n",
       "Country           557\n",
       "RnB               397\n",
       "Latin             360\n",
       "Jazz              224\n",
       "International     206\n",
       "Rap               164\n",
       "Vocal             114\n",
       "New-Age            67\n",
       "Name: genre, dtype: int64"
      ]
     },
     "execution_count": 208,
     "metadata": {},
     "output_type": "execute_result"
    }
   ],
   "source": [
    "LABEL_DIR = \"D:/522 project/lpd_5/amg\"\n",
    "label_df = data_reading.read_label_tagtraum(LABEL_DIR)\n",
    "LPD_MSD = \"D:/522 project/lpd_5/cleansed_ids.txt\"\n",
    "lpd_msd_df = data_reading.read_lpd_to_msd_df(LPD_MSD)\n",
    "lpd_msd_label_df = label_df.merge(lpd_msd_df, left_on=\"id\", right_on=\"msd_id\", how=\"left\")\n",
    "lpd_msd_label_df = lpd_msd_label_df.set_index(\"lpd_id\")\n",
    "#merge folk country, blues jazz reggae, \n",
    "lpd_label_df = lpd_msd_label_df.drop(columns=[\"id\", \"msd_id\"])\n",
    "lpd_label_df.loc[lpd_label_df[\"genre\"] == \"Folk\", \"genre\"] = \"Country\"\n",
    "lpd_label_df.loc[lpd_label_df[\"genre\"] == \"Blues\", \"genre\"] = \"Jazz\"\n",
    "lpd_label_df.loc[lpd_label_df[\"genre\"] == \"Reggae\", \"genre\"] = \"Jazz\"\n",
    "lpd_label_df[\"genre\"].value_counts()"
   ]
  },
  {
   "cell_type": "code",
   "execution_count": 209,
   "id": "8da2b982",
   "metadata": {},
   "outputs": [],
   "source": [
    "label_encoder = LabelEncoder()\n",
    "label = label_encoder.fit_transform(lpd_label_df[\"genre\"])"
   ]
  },
  {
   "cell_type": "code",
   "execution_count": 210,
   "id": "20c36687",
   "metadata": {},
   "outputs": [
    {
     "data": {
      "text/plain": [
       "array(['Country', 'Electronic', 'International', 'Jazz', 'Latin',\n",
       "       'New-Age', 'Rap', 'RnB', 'Rock', 'Vocal'], dtype=object)"
      ]
     },
     "execution_count": 210,
     "metadata": {},
     "output_type": "execute_result"
    }
   ],
   "source": [
    "label_encoder.classes_"
   ]
  },
  {
   "cell_type": "code",
   "execution_count": 211,
   "id": "39c7b3b7",
   "metadata": {},
   "outputs": [],
   "source": [
    "lpd_label_df[\"label\"] = label"
   ]
  },
  {
   "cell_type": "code",
   "execution_count": 212,
   "id": "c207000d",
   "metadata": {},
   "outputs": [],
   "source": [
    "class_weight = []\n",
    "for x in label_encoder.classes_:\n",
    "    class_weight.append(len(lpd_label_df)/ lpd_label_df[\"genre\"].value_counts()[x])"
   ]
  },
  {
   "cell_type": "code",
   "execution_count": 213,
   "id": "cb18a3d8",
   "metadata": {},
   "outputs": [
    {
     "data": {
      "text/plain": [
       "array(['Country', 'Electronic', 'International', 'Jazz', 'Latin',\n",
       "       'New-Age', 'Rap', 'RnB', 'Rock', 'Vocal'], dtype=object)"
      ]
     },
     "execution_count": 213,
     "metadata": {},
     "output_type": "execute_result"
    }
   ],
   "source": [
    "label_encoder.classes_"
   ]
  },
  {
   "cell_type": "code",
   "execution_count": 214,
   "id": "264cfeb5",
   "metadata": {},
   "outputs": [
    {
     "data": {
      "text/plain": [
       "[13.14721723518851,\n",
       " 8.23734533183352,\n",
       " 35.54854368932039,\n",
       " 32.691964285714285,\n",
       " 20.341666666666665,\n",
       " 109.29850746268657,\n",
       " 44.65243902439025,\n",
       " 18.445843828715365,\n",
       " 1.685385500575374,\n",
       " 64.23684210526316]"
      ]
     },
     "execution_count": 214,
     "metadata": {},
     "output_type": "execute_result"
    }
   ],
   "source": [
    "class_weight"
   ]
  },
  {
   "cell_type": "code",
   "execution_count": 219,
   "id": "faeb5a7d",
   "metadata": {},
   "outputs": [
    {
     "name": "stdout",
     "output_type": "stream",
     "text": [
      "0\n",
      "1000\n",
      "2000\n",
      "3000\n",
      "4000\n",
      "5000\n",
      "6000\n",
      "7000\n"
     ]
    }
   ],
   "source": [
    "train_pprs = data_reading.read_and_preprocess_and_filter_pianorolls2(train_file_paths, \n",
    "                                                                     INSTRUMENTS, WINDOW_LENGTH, \n",
    "                                                                     RESOLUTION, lpd_label_df.index, False)"
   ]
  },
  {
   "cell_type": "code",
   "execution_count": 220,
   "id": "20801ceb",
   "metadata": {},
   "outputs": [
    {
     "name": "stdout",
     "output_type": "stream",
     "text": [
      "0\n",
      "1000\n"
     ]
    }
   ],
   "source": [
    "test_pprs = data_reading.read_and_preprocess_and_filter_pianorolls2(test_file_paths, \n",
    "                                                                     INSTRUMENTS, WINDOW_LENGTH, \n",
    "                                                                     RESOLUTION, lpd_label_df.index, False)"
   ]
  },
  {
   "cell_type": "code",
   "execution_count": 221,
   "id": "2371e21f",
   "metadata": {},
   "outputs": [],
   "source": [
    "train_piano_dataset = IterableClassificationSongDataset(train_pprs, WINDOW_LENGTH, RESOLUTION, INSTRUMENTS, lpd_label_df)\n",
    "train_piano_loader = DataLoader(train_piano_dataset, batch_size = BATCH_SIZE, drop_last=True)\n",
    "test_piano_dataset =  IterableClassificationSongDataset(test_pprs, WINDOW_LENGTH, RESOLUTION, INSTRUMENTS, lpd_label_df)\n",
    "test_piano_loader = DataLoader(test_piano_dataset, batch_size = BATCH_SIZE, drop_last=True)"
   ]
  },
  {
   "cell_type": "code",
   "execution_count": 283,
   "id": "f501dfd2",
   "metadata": {},
   "outputs": [],
   "source": [
    "model = MusicClassificationCNN(train_piano_dataset.get_track_order(), len(class_weight), False).to(DEVICE)"
   ]
  },
  {
   "cell_type": "code",
   "execution_count": 284,
   "id": "9507800d",
   "metadata": {},
   "outputs": [],
   "source": [
    "criterion = torch.nn.CrossEntropyLoss(weight = torch.tensor(class_weight).float().to(DEVICE))"
   ]
  },
  {
   "cell_type": "code",
   "execution_count": 285,
   "id": "66e95589",
   "metadata": {},
   "outputs": [],
   "source": [
    "LR = 0.0001\n",
    "LR_LAMBDA = 1\n",
    "AUTOSAVE = True\n",
    "SAVE_ON_EPOCH = 5\n",
    "optimizer = torch.optim.Adam(model.parameters(), lr=LR)\n",
    "scheduler = torch.optim.lr_scheduler.LambdaLR(optimizer, lr_lambda = lambda epoch: LR_LAMBDA ** epoch)"
   ]
  },
  {
   "cell_type": "code",
   "execution_count": 297,
   "id": "c6df771c",
   "metadata": {},
   "outputs": [
    {
     "name": "stdout",
     "output_type": "stream",
     "text": [
      "[0.0001]\n",
      "start test\n",
      "Epoch 1, Train Loss: 1.0947478644549846, Test Loss: 1.7590455632460744, Time: 2022-04-28 10:17:16.763405\n",
      "[0.0001]\n",
      "start test\n",
      "Epoch 2, Train Loss: 1.061156352609396, Test Loss: 1.720272892399838, Time: 2022-04-28 10:17:29.967403\n",
      "[0.0001]\n",
      "start test\n",
      "Epoch 3, Train Loss: 0.9574900608509779, Test Loss: 1.7478911186519421, Time: 2022-04-28 10:17:43.030905\n",
      "[0.0001]\n",
      "start test\n",
      "Epoch 4, Train Loss: 0.9390643902122975, Test Loss: 1.75195176350443, Time: 2022-04-28 10:17:55.874403\n",
      "[0.0001]\n",
      "start test\n",
      "Epoch 5, Train Loss: 0.8929886408150196, Test Loss: 1.787351746308176, Time: 2022-04-28 10:18:09.128403\n",
      "[0.0001]\n",
      "start test\n",
      "Epoch 6, Train Loss: 0.8605557806789875, Test Loss: 1.7956600565659373, Time: 2022-04-28 10:18:22.116902\n",
      "[0.0001]\n",
      "start test\n",
      "Epoch 7, Train Loss: 0.8017205085605383, Test Loss: 1.8050303208200555, Time: 2022-04-28 10:18:35.025403\n",
      "[0.0001]\n",
      "start test\n",
      "Epoch 8, Train Loss: 0.7909659527242183, Test Loss: 1.7745615243911743, Time: 2022-04-28 10:18:47.754403\n",
      "[0.0001]\n",
      "start test\n",
      "Epoch 9, Train Loss: 0.7719804774969816, Test Loss: 1.7719199594698454, Time: 2022-04-28 10:19:00.776902\n",
      "[0.0001]\n",
      "start test\n",
      "Epoch 10, Train Loss: 0.7020488291978836, Test Loss: 1.9183228643316972, Time: 2022-04-28 10:19:14.003904\n",
      "[0.0001]\n",
      "start test\n",
      "Epoch 11, Train Loss: 0.6528590098023415, Test Loss: 1.870954670404133, Time: 2022-04-28 10:19:27.160904\n",
      "[0.0001]\n",
      "start test\n",
      "Epoch 12, Train Loss: 0.6513852443546057, Test Loss: 1.8365070192437423, Time: 2022-04-28 10:19:40.162403\n",
      "[0.0001]\n",
      "start test\n",
      "Epoch 13, Train Loss: 0.607836066186428, Test Loss: 1.897214688752827, Time: 2022-04-28 10:19:53.170903\n",
      "[0.0001]\n",
      "start test\n",
      "Epoch 14, Train Loss: 0.6030519735068083, Test Loss: 1.860963037139491, Time: 2022-04-28 10:20:06.092402\n",
      "[0.0001]\n",
      "start test\n",
      "Epoch 15, Train Loss: 0.5666492026299238, Test Loss: 1.8829296450865896, Time: 2022-04-28 10:20:19.259403\n",
      "[0.0001]\n",
      "start test\n",
      "Epoch 16, Train Loss: 0.579251060821116, Test Loss: 1.8187971930754812, Time: 2022-04-28 10:20:32.371904\n",
      "[0.0001]\n",
      "start test\n",
      "Epoch 17, Train Loss: 0.5306641824543477, Test Loss: 1.9924474358558655, Time: 2022-04-28 10:20:45.479903\n",
      "[0.0001]\n",
      "start test\n",
      "Epoch 18, Train Loss: 0.487223301269114, Test Loss: 1.9373852579217208, Time: 2022-04-28 10:20:58.811903\n",
      "[0.0001]\n",
      "start test\n",
      "Epoch 19, Train Loss: 0.4834991408511996, Test Loss: 1.94859600694556, Time: 2022-04-28 10:21:11.897903\n",
      "[0.0001]\n",
      "start test\n",
      "Epoch 20, Train Loss: 0.4288410659879446, Test Loss: 2.0314251466801294, Time: 2022-04-28 10:21:25.744405\n"
     ]
    }
   ],
   "source": [
    "N_EPOCH = 20\n",
    "train_losses, test_losses = training_cnn(model, optimizer, scheduler, criterion, train_piano_loader, test_piano_loader,\n",
    "            N_EPOCH, DEVICE, AUTOSAVE, SAVE_ON_EPOCH)"
   ]
  },
  {
   "cell_type": "code",
   "execution_count": 288,
   "id": "2568e315",
   "metadata": {},
   "outputs": [
    {
     "data": {
      "text/plain": [
       "<matplotlib.legend.Legend at 0x230aa68c0a0>"
      ]
     },
     "execution_count": 288,
     "metadata": {},
     "output_type": "execute_result"
    },
    {
     "data": {
      "image/png": "[encoded data removed]",
      "text/plain": [
       "<Figure size 1440x1440 with 1 Axes>"
      ]
     },
     "metadata": {
      "needs_background": "light"
     },
     "output_type": "display_data"
    }
   ],
   "source": [
    "plt.rcParams[\"figure.figsize\"] = (20,20)\n",
    "plt.plot(train_losses, label = 'Train Loss')\n",
    "plt.plot(test_losses, label = 'Test Loss')\n",
    "plt.xlabel('Epoch')\n",
    "plt.ylabel('Loss')\n",
    "plt.legend()"
   ]
  },
  {
   "cell_type": "code",
   "execution_count": 298,
   "id": "c93be2de",
   "metadata": {},
   "outputs": [],
   "source": [
    "pred_y, true_y = evaluate_cnn(model, test_piano_loader, DEVICE)"
   ]
  },
  {
   "cell_type": "code",
   "execution_count": 299,
   "id": "d660520e",
   "metadata": {},
   "outputs": [],
   "source": [
    "pred_y = np.concatenate(pred_y)\n",
    "true_y = np.concatenate(true_y)"
   ]
  },
  {
   "cell_type": "code",
   "execution_count": 300,
   "id": "d2777fe2",
   "metadata": {},
   "outputs": [],
   "source": [
    "pred_label = label_encoder.inverse_transform(pred_y)\n",
    "true_label = label_encoder.inverse_transform(true_y)"
   ]
  },
  {
   "cell_type": "code",
   "execution_count": 301,
   "id": "31fbd7a4",
   "metadata": {},
   "outputs": [
    {
     "data": {
      "text/plain": [
       "array(['Electronic', 'Country', 'Country', 'Latin', 'Country',\n",
       "       'Electronic', 'RnB', 'Country', 'Country', 'Latin', 'Country',\n",
       "       'Electronic', 'Latin', 'Country', 'Electronic', 'Jazz', 'Rap',\n",
       "       'International', 'Electronic', 'Rap', 'Vocal', 'Electronic', 'Rap',\n",
       "       'Country', 'International', 'New-Age', 'Electronic', 'RnB', 'Rap',\n",
       "       'Electronic', 'Country', 'Rock', 'Country', 'Electronic',\n",
       "       'Country', 'Country', 'Rap', 'RnB', 'International', 'Country',\n",
       "       'Rock', 'Jazz', 'Latin', 'Country', 'Jazz', 'Country', 'Country',\n",
       "       'Latin', 'Electronic', 'Rap', 'Latin', 'Electronic',\n",
       "       'International', 'Country', 'Country', 'Rap', 'Rock', 'Jazz',\n",
       "       'Electronic', 'Vocal', 'Electronic', 'Latin', 'Country',\n",
       "       'Electronic', 'RnB', 'Electronic', 'Electronic', 'Electronic',\n",
       "       'Country', 'Electronic', 'International', 'Electronic', 'RnB',\n",
       "       'Country', 'Country', 'Rap', 'Jazz', 'Electronic', 'Latin',\n",
       "       'Electronic', 'RnB', 'Country', 'Rap', 'Latin', 'Jazz', 'RnB',\n",
       "       'Jazz', 'Country', 'Country', 'RnB', 'Rap', 'Electronic',\n",
       "       'Country', 'Country', 'New-Age', 'Latin', 'Country', 'Electronic',\n",
       "       'Electronic', 'Jazz', 'Latin', 'Electronic', 'Jazz', 'Country',\n",
       "       'International', 'Country', 'Country', 'Country', 'International',\n",
       "       'Electronic', 'Country', 'Electronic', 'Vocal', 'Rap', 'Country',\n",
       "       'Jazz', 'Electronic', 'Electronic', 'International', 'RnB',\n",
       "       'Electronic', 'Electronic', 'Jazz', 'Jazz', 'RnB', 'Country',\n",
       "       'Electronic', 'Country', 'Electronic', 'RnB', 'Country', 'Jazz',\n",
       "       'Jazz', 'Latin', 'Country', 'Latin', 'RnB', 'Rap', 'Country',\n",
       "       'Country', 'Country', 'RnB', 'Latin', 'Jazz', 'Country',\n",
       "       'Electronic', 'Country', 'Electronic', 'Rap', 'Electronic',\n",
       "       'Country', 'Jazz', 'Electronic', 'Electronic', 'Jazz', 'Country',\n",
       "       'Country', 'Country', 'Rap', 'Latin', 'Country', 'Country',\n",
       "       'Country', 'Country', 'Vocal', 'Electronic', 'Latin', 'Jazz',\n",
       "       'Country', 'RnB', 'Electronic', 'Rock', 'Country', 'Country',\n",
       "       'Latin', 'Electronic', 'Electronic', 'RnB', 'Electronic',\n",
       "       'Country', 'Electronic', 'Country', 'RnB', 'Latin',\n",
       "       'International', 'Country', 'Jazz', 'Electronic', 'Country', 'RnB',\n",
       "       'Electronic', 'Vocal', 'Electronic', 'RnB', 'Electronic', 'Jazz',\n",
       "       'Electronic', 'International', 'RnB', 'Jazz', 'Latin', 'Jazz',\n",
       "       'Jazz', 'Electronic', 'Country', 'Latin', 'Jazz', 'Rap',\n",
       "       'Electronic', 'Rap', 'Jazz', 'Vocal', 'Vocal', 'Latin',\n",
       "       'Electronic', 'Country', 'Electronic', 'Electronic', 'Country',\n",
       "       'Jazz', 'Country', 'Electronic', 'Rap', 'Country', 'Electronic',\n",
       "       'Latin', 'Country', 'Jazz', 'Rap', 'Jazz', 'Electronic', 'Jazz',\n",
       "       'Rap', 'Jazz', 'Electronic', 'RnB', 'Electronic', 'Rap', 'Latin',\n",
       "       'International', 'Rock', 'Rap', 'RnB', 'RnB', 'Electronic',\n",
       "       'Vocal', 'Latin', 'International', 'Electronic', 'Electronic',\n",
       "       'Electronic', 'Rap', 'Latin', 'Country', 'Country', 'RnB',\n",
       "       'Country', 'Rap', 'Jazz', 'Electronic', 'Latin', 'Country',\n",
       "       'Electronic', 'Rap', 'Rap', 'Electronic', 'Rock', 'RnB', 'Country',\n",
       "       'Jazz', 'Country', 'Electronic', 'Country', 'Rap', 'Electronic',\n",
       "       'International', 'Country', 'Country', 'Country', 'Electronic',\n",
       "       'Country', 'Country', 'Country', 'RnB', 'Jazz', 'Country', 'Latin',\n",
       "       'Jazz', 'Electronic', 'Electronic', 'Country', 'Rock',\n",
       "       'Electronic', 'Jazz', 'RnB', 'Rock', 'Country', 'Jazz',\n",
       "       'Electronic', 'Electronic', 'RnB', 'Country', 'Electronic', 'Jazz',\n",
       "       'Rap', 'Country', 'Electronic', 'Electronic', 'Country', 'Latin',\n",
       "       'Rap', 'Electronic', 'Rap', 'Vocal', 'Rap', 'Country',\n",
       "       'Electronic', 'Electronic', 'Latin', 'RnB', 'Country', 'Country',\n",
       "       'Country', 'Latin', 'International', 'Electronic', 'Electronic',\n",
       "       'Country', 'Jazz', 'Latin', 'Electronic', 'Vocal', 'Country',\n",
       "       'Latin', 'Electronic', 'Electronic', 'RnB', 'Latin', 'Country',\n",
       "       'Country', 'Electronic', 'Electronic', 'Rap', 'Country', 'Country',\n",
       "       'Country', 'Jazz', 'Country', 'Jazz', 'Electronic', 'Electronic',\n",
       "       'Jazz', 'Electronic', 'Electronic', 'Latin', 'Country', 'Country',\n",
       "       'Electronic', 'Rap', 'Electronic', 'Country', 'Country', 'New-Age',\n",
       "       'RnB', 'International', 'Jazz', 'Electronic', 'Latin', 'Jazz',\n",
       "       'Rock', 'Rock', 'Electronic', 'Electronic', 'Rap', 'RnB', 'Rap',\n",
       "       'Jazz', 'Electronic', 'Electronic', 'Country', 'Jazz',\n",
       "       'Electronic', 'Electronic', 'Vocal', 'International', 'Electronic',\n",
       "       'New-Age', 'Electronic', 'Electronic', 'Rock', 'Country',\n",
       "       'Electronic', 'International', 'Country', 'Country', 'Country',\n",
       "       'Latin', 'RnB', 'RnB', 'Electronic', 'Rock', 'Jazz', 'Electronic',\n",
       "       'Jazz', 'Electronic', 'Vocal', 'Jazz', 'Country', 'Electronic',\n",
       "       'Electronic', 'Latin', 'Country', 'Rap', 'Country',\n",
       "       'International', 'RnB', 'Vocal', 'Electronic', 'Jazz', 'Latin',\n",
       "       'Country', 'Electronic', 'Latin', 'Jazz', 'RnB', 'Rap', 'Country',\n",
       "       'Electronic', 'RnB', 'Country', 'RnB', 'RnB', 'Vocal', 'Rock',\n",
       "       'Rap', 'Jazz', 'Country', 'Rap', 'Jazz', 'Jazz', 'Electronic',\n",
       "       'Jazz', 'Jazz', 'Country', 'Country', 'Country', 'RnB',\n",
       "       'Electronic', 'Rap', 'Jazz', 'Rap', 'Rap', 'Country', 'Electronic',\n",
       "       'Country', 'Electronic', 'Country', 'Country', 'New-Age',\n",
       "       'Electronic', 'Electronic', 'Electronic', 'New-Age', 'Rock', 'RnB',\n",
       "       'RnB', 'Electronic', 'International', 'Country', 'Rap', 'RnB',\n",
       "       'Electronic', 'Rock', 'Latin', 'Electronic', 'Rap', 'RnB',\n",
       "       'Country', 'International', 'RnB', 'International', 'RnB', 'Latin',\n",
       "       'Country', 'Electronic', 'Country', 'Latin', 'Rap', 'Jazz', 'Jazz',\n",
       "       'Rock', 'Jazz', 'Rock', 'Electronic', 'Rap', 'Jazz', 'Country',\n",
       "       'Jazz', 'Country', 'Jazz', 'RnB', 'Jazz', 'Country', 'Latin',\n",
       "       'Jazz', 'Jazz', 'Electronic', 'Latin', 'Rap', 'Jazz', 'Rap',\n",
       "       'Electronic', 'Electronic', 'Jazz', 'Country', 'Electronic',\n",
       "       'Latin', 'Latin', 'Country', 'Electronic', 'Country',\n",
       "       'International', 'Jazz', 'Electronic', 'Latin', 'Jazz', 'Rap',\n",
       "       'Jazz', 'Electronic', 'Electronic', 'Rock', 'Electronic', 'Rock',\n",
       "       'Rap', 'Country', 'Electronic', 'Rock', 'Rap', 'Country',\n",
       "       'Electronic', 'Latin', 'Rap', 'Jazz', 'Rock', 'Latin', 'Country',\n",
       "       'Jazz', 'Jazz', 'International', 'Country', 'Electronic',\n",
       "       'Electronic', 'Electronic', 'Country', 'Rap', 'Electronic',\n",
       "       'Country', 'Rock', 'Jazz', 'Rap', 'Electronic', 'Rap', 'Country',\n",
       "       'Country', 'Country', 'Rap', 'Rap', 'Country', 'RnB', 'Country',\n",
       "       'Electronic', 'Country', 'Electronic', 'Jazz', 'Rap', 'Country',\n",
       "       'Jazz', 'New-Age', 'Electronic', 'Country', 'Country',\n",
       "       'Electronic', 'Electronic', 'Jazz', 'Electronic', 'Rock',\n",
       "       'International', 'Latin', 'Jazz', 'RnB', 'Electronic', 'Country',\n",
       "       'Jazz', 'RnB', 'Jazz', 'Electronic', 'Jazz', 'Latin', 'Rap', 'RnB',\n",
       "       'Latin', 'Jazz', 'Electronic', 'Latin', 'Country', 'Electronic',\n",
       "       'Rap', 'Jazz'], dtype=object)"
      ]
     },
     "execution_count": 301,
     "metadata": {},
     "output_type": "execute_result"
    }
   ],
   "source": [
    "pred_label"
   ]
  },
  {
   "cell_type": "code",
   "execution_count": 302,
   "id": "22e6f7a2",
   "metadata": {},
   "outputs": [],
   "source": [
    "cm = confusion_matrix(true_y, pred_y)"
   ]
  },
  {
   "cell_type": "code",
   "execution_count": 303,
   "id": "265519fd",
   "metadata": {},
   "outputs": [],
   "source": [
    "from sklearn.metrics import ConfusionMatrixDisplay"
   ]
  },
  {
   "cell_type": "code",
   "execution_count": 304,
   "id": "9cbb9e23",
   "metadata": {},
   "outputs": [
    {
     "data": {
      "text/plain": [
       "<sklearn.metrics._plot.confusion_matrix.ConfusionMatrixDisplay at 0x2313f9055b0>"
      ]
     },
     "execution_count": 304,
     "metadata": {},
     "output_type": "execute_result"
    },
    {
     "data": {
      "image/png": "[encoded data removed]",
      "text/plain": [
       "<Figure size 1440x1440 with 2 Axes>"
      ]
     },
     "metadata": {
      "needs_background": "light"
     },
     "output_type": "display_data"
    }
   ],
   "source": [
    "cmd = ConfusionMatrixDisplay(cm, display_labels = label_encoder.classes_)\n",
    "cmd.plot()"
   ]
  },
  {
   "cell_type": "code",
   "execution_count": 272,
   "id": "efeae7a5",
   "metadata": {},
   "outputs": [
    {
     "data": {
      "text/plain": [
       "array([1, 8, 8, 0, 0, 1, 8, 0, 7, 4, 0, 8, 4, 8, 1, 8, 1, 8, 1, 8, 8, 8,\n",
       "       8, 0, 8, 8, 1, 8, 8, 8, 0, 8, 0, 1, 0, 8, 8, 4, 1, 0, 8, 8, 4, 8,\n",
       "       0, 8, 8, 4, 2, 8, 8, 8, 7, 1, 0, 6, 0, 1, 1, 8, 1, 8, 8, 1, 8, 1,\n",
       "       1, 1, 8, 8, 2, 1, 0, 2, 8, 3, 8, 1, 4, 8, 8, 0, 8, 8, 3, 8, 8, 8,\n",
       "       0, 8, 8, 1, 0, 8, 6, 0, 8, 8, 8, 8, 4, 8, 8, 0, 2, 8, 8, 0, 8, 8,\n",
       "       7, 1, 8, 8, 0, 3, 1, 1, 8, 0, 8, 1, 8, 1, 8, 8, 8, 8, 8, 0, 8, 8,\n",
       "       1, 4, 8, 8, 8, 0, 0, 0, 8, 8, 0, 3, 8, 1, 8, 1, 8, 4, 0, 8, 8, 1,\n",
       "       4, 8, 0, 8, 7, 4, 8, 0, 8, 8, 8, 2, 8, 3, 8, 7, 1, 8, 0, 0, 6, 1,\n",
       "       8, 0, 1, 8, 1, 8, 8, 8, 2, 0, 1, 1, 0, 7, 1, 0, 8, 7, 1, 8, 1, 8,\n",
       "       0, 8, 8, 8, 0, 1, 8, 8, 8, 8, 8, 1, 8, 9, 8, 4, 7, 0, 8, 1, 8, 8,\n",
       "       0, 1, 3, 8, 8, 0, 4, 8, 0, 8, 1, 8, 8, 8, 8, 8, 1, 8, 8, 2, 8, 8,\n",
       "       8, 1, 1, 0, 4, 8, 8, 1, 1, 1, 4, 0, 0, 8, 0, 8, 8, 8, 0, 8, 1, 8,\n",
       "       6, 1, 8, 7, 0, 8, 8, 8, 0, 0, 1, 0, 0, 1, 4, 1, 0, 8, 0, 7, 8, 8,\n",
       "       4, 0, 1, 4, 0, 8, 1, 8, 8, 8, 8, 8, 1, 1, 8, 0, 8, 8, 8, 0, 8, 1,\n",
       "       1, 0, 8, 1, 1, 8, 8, 0, 1, 8, 8, 0, 8, 0, 8, 8, 2, 8, 8, 0, 8, 4,\n",
       "       1, 8, 8, 4, 8, 8, 8, 8, 1, 8, 1, 8, 0, 8, 0, 8, 8, 8, 8, 1, 1, 8,\n",
       "       1, 0, 8, 0, 8, 8, 8, 1, 0, 8, 5, 7, 2, 8, 1, 8, 0, 8, 8, 1, 8, 8,\n",
       "       8, 8, 8, 8, 8, 8, 7, 1, 8, 8, 8, 1, 5, 1, 1, 8, 0, 8, 8, 8, 8, 8,\n",
       "       8, 8, 7, 1, 8, 8, 1, 0, 8, 0, 8, 0, 1, 1, 8, 0, 8, 0, 8, 7, 8, 1,\n",
       "       8, 4, 1, 8, 1, 8, 8, 8, 8, 8, 8, 0, 2, 7, 8, 8, 8, 7, 8, 0, 8, 8,\n",
       "       4, 8, 8, 8, 8, 8, 7, 0, 8, 8, 6, 8, 8, 1, 8, 8, 8, 0, 8, 8, 1, 1,\n",
       "       5, 8, 0, 8, 8, 2, 0, 8, 7, 1, 8, 1, 8, 8, 0, 0, 2, 8, 0, 8, 4, 0,\n",
       "       1, 4, 8, 7, 8, 8, 8, 7, 8, 8, 1, 8, 4, 3, 8, 8, 0, 8, 8, 4, 8, 8,\n",
       "       0, 8, 6, 8, 8, 1, 1, 0, 1, 1, 4, 4, 8, 1, 0, 2, 4, 1, 8, 8, 8, 8,\n",
       "       1, 1, 8, 8, 4, 8, 0, 1, 8, 8, 0, 1, 8, 0, 8, 8, 4, 0, 3, 1, 2, 8,\n",
       "       1, 1, 1, 0, 8, 1, 0, 8, 0, 1, 1, 8, 0, 8, 8, 0, 8, 0, 8, 4, 1, 8,\n",
       "       1, 1, 8, 0, 8, 5, 1, 7, 8, 1, 1, 8, 1, 8, 2, 4, 8, 2, 8, 0, 8, 7,\n",
       "       8, 1, 8, 8, 8, 8, 0, 8, 8, 8, 0, 8, 8, 8], dtype=int64)"
      ]
     },
     "execution_count": 272,
     "metadata": {},
     "output_type": "execute_result"
    }
   ],
   "source": [
    "pred_y"
   ]
  },
  {
   "cell_type": "code",
   "execution_count": 273,
   "id": "e8d15b77",
   "metadata": {},
   "outputs": [
    {
     "data": {
      "text/plain": [
       "array([1, 8, 8, 0, 8, 1, 8, 8, 8, 4, 0, 8, 8, 8, 1, 8, 8, 8, 1, 8, 8, 8,\n",
       "       8, 0, 8, 8, 1, 8, 8, 8, 8, 8, 8, 1, 8, 8, 8, 8, 1, 3, 8, 8, 4, 2,\n",
       "       0, 8, 8, 4, 8, 8, 4, 8, 8, 8, 8, 6, 8, 1, 1, 8, 1, 8, 8, 1, 3, 1,\n",
       "       1, 1, 8, 1, 8, 8, 8, 8, 8, 4, 8, 1, 8, 8, 8, 0, 8, 8, 3, 8, 8, 8,\n",
       "       0, 7, 8, 7, 0, 8, 8, 5, 8, 7, 5, 8, 4, 7, 8, 0, 2, 8, 8, 0, 1, 8,\n",
       "       1, 1, 8, 8, 0, 3, 1, 1, 8, 8, 1, 1, 8, 8, 7, 2, 1, 0, 8, 8, 8, 8,\n",
       "       8, 4, 8, 8, 7, 8, 8, 0, 8, 2, 8, 3, 0, 1, 8, 1, 8, 8, 0, 8, 7, 1,\n",
       "       8, 8, 0, 8, 8, 4, 8, 0, 0, 8, 8, 7, 6, 7, 6, 7, 8, 8, 0, 0, 8, 1,\n",
       "       8, 8, 1, 8, 8, 0, 8, 9, 2, 8, 8, 1, 0, 7, 1, 0, 4, 7, 1, 8, 1, 8,\n",
       "       8, 8, 8, 8, 8, 1, 8, 8, 8, 8, 1, 1, 8, 9, 8, 4, 4, 0, 8, 1, 8, 0,\n",
       "       0, 1, 8, 8, 8, 4, 0, 2, 7, 7, 1, 8, 8, 8, 8, 8, 1, 8, 8, 2, 8, 8,\n",
       "       8, 8, 1, 8, 8, 8, 8, 1, 1, 8, 4, 0, 0, 8, 0, 8, 8, 8, 8, 8, 1, 8,\n",
       "       8, 1, 8, 7, 0, 8, 0, 8, 0, 5, 1, 0, 8, 4, 8, 1, 0, 8, 0, 7, 8, 8,\n",
       "       4, 4, 8, 6, 0, 8, 1, 8, 2, 8, 0, 8, 1, 1, 8, 0, 8, 8, 8, 0, 4, 1,\n",
       "       1, 4, 8, 1, 1, 8, 8, 7, 1, 1, 8, 8, 1, 0, 8, 8, 2, 1, 8, 8, 8, 4,\n",
       "       1, 0, 8, 4, 4, 1, 8, 3, 8, 8, 1, 8, 7, 8, 7, 8, 8, 8, 5, 1, 1, 8,\n",
       "       1, 8, 8, 7, 8, 1, 8, 1, 8, 8, 5, 7, 2, 0, 1, 8, 7, 8, 8, 1, 4, 8,\n",
       "       8, 8, 0, 8, 8, 8, 8, 1, 8, 8, 8, 1, 5, 1, 1, 8, 0, 2, 8, 0, 0, 4,\n",
       "       8, 8, 7, 1, 8, 3, 1, 8, 8, 0, 7, 0, 1, 1, 8, 0, 3, 0, 8, 7, 2, 1,\n",
       "       8, 4, 8, 6, 4, 8, 8, 6, 0, 1, 8, 8, 0, 7, 8, 8, 8, 8, 8, 8, 8, 8,\n",
       "       8, 8, 8, 8, 8, 8, 7, 8, 1, 8, 6, 0, 8, 1, 1, 1, 8, 0, 8, 2, 1, 1,\n",
       "       5, 8, 8, 8, 8, 2, 0, 8, 7, 1, 8, 1, 8, 5, 8, 0, 2, 4, 1, 8, 4, 0,\n",
       "       1, 8, 8, 7, 8, 8, 8, 8, 6, 8, 1, 3, 8, 3, 8, 8, 8, 8, 0, 4, 8, 8,\n",
       "       8, 8, 6, 8, 0, 1, 1, 9, 8, 1, 4, 4, 8, 8, 0, 2, 8, 1, 8, 8, 8, 4,\n",
       "       1, 1, 8, 7, 8, 8, 0, 1, 1, 8, 8, 1, 8, 1, 8, 8, 4, 0, 3, 4, 2, 8,\n",
       "       1, 1, 1, 8, 1, 1, 0, 8, 3, 8, 1, 8, 0, 8, 4, 8, 8, 0, 8, 0, 1, 8,\n",
       "       1, 4, 4, 0, 8, 5, 1, 8, 8, 1, 1, 3, 1, 8, 2, 8, 8, 3, 8, 8, 8, 7,\n",
       "       8, 1, 8, 4, 7, 8, 4, 8, 8, 8, 0, 2, 1, 3])"
      ]
     },
     "execution_count": 273,
     "metadata": {},
     "output_type": "execute_result"
    }
   ],
   "source": [
    "true_y"
   ]
  },
  {
   "cell_type": "code",
   "execution_count": 305,
   "id": "cbb5d0b9",
   "metadata": {},
   "outputs": [
    {
     "data": {
      "text/plain": [
       "0.39473684210526316"
      ]
     },
     "execution_count": 305,
     "metadata": {},
     "output_type": "execute_result"
    }
   ],
   "source": [
    "(pred_y==true_y).mean()"
   ]
  },
  {
   "cell_type": "code",
   "execution_count": 253,
   "id": "d93005cd",
   "metadata": {},
   "outputs": [
    {
     "data": {
      "text/plain": [
       "array([[284,   0,   3,   1,   2,   0,   2,   1,   0,   0],\n",
       "       [  4, 479,   0,   2,   1,   0,   0,   1,   2,   0],\n",
       "       [  0,   0,  82,   0,   0,   0,   0,   0,   0,   0],\n",
       "       [  0,   0,   0,  84,   0,   0,   0,   0,   0,   0],\n",
       "       [  1,   0,   0,   0, 151,   0,   0,   0,   0,   0],\n",
       "       [  0,   0,   0,   0,   0,  20,   0,   0,   0,   0],\n",
       "       [  0,   0,   0,   0,   0,   0,  29,   0,   0,   0],\n",
       "       [  0,   0,   0,   0,   0,   2,   0, 156,   0,   0],\n",
       "       [179,  67,  32,  11,  43,   2,  15,  71, 799,   5],\n",
       "       [  0,   0,   0,   0,   0,   0,   0,   0,   0,  29]], dtype=int64)"
      ]
     },
     "execution_count": 253,
     "metadata": {},
     "output_type": "execute_result"
    }
   ],
   "source": [
    "cm"
   ]
  },
  {
   "cell_type": "code",
   "execution_count": 112,
   "id": "26fcf4f2",
   "metadata": {},
   "outputs": [],
   "source": [
    "torch.save(model.state_dict(), \"./non_linear_classifier_cnn\")"
   ]
  }
 ],
 "metadata": {
  "kernelspec": {
   "display_name": "Python 3 (ipykernel)",
   "language": "python",
   "name": "python3"
  },
  "language_info": {
   "codemirror_mode": {
    "name": "ipython",
    "version": 3
   },
   "file_extension": ".py",
   "mimetype": "text/x-python",
   "name": "python",
   "nbconvert_exporter": "python",
   "pygments_lexer": "ipython3",
   "version": "3.9.7"
  }
 },
 "nbformat": 4,
 "nbformat_minor": 5
}
