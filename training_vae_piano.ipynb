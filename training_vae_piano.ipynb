{
 "cells": [
  {
   "cell_type": "code",
   "execution_count": 2,
   "id": "b9dce357",
   "metadata": {},
   "outputs": [],
   "source": [
    "from dataset import iterable_dataset\n",
    "from models.music_generation_VAE import ConvVAE\n",
    "import os\n",
    "from utils import training_vae, data_reading\n",
    "import torch\n",
    "from torch.utils.data import DataLoader\n",
    "import pickle"
   ]
  },
  {
   "cell_type": "code",
   "execution_count": 10,
   "id": "d05e2169",
   "metadata": {},
   "outputs": [],
   "source": [
    "DEVICE = torch.device('cuda' if torch.cuda.is_available() else 'cpu')\n",
    "PROJECT_DIR =\"D:/522 project\"\n",
    "PPR_DIR = \"lpd_5_pianoroll\"\n",
    "SEQ_LEN = 48\n",
    "RESOLUTION = 12\n",
    "TRAIN_SPLIT = 0.8\n",
    "HIDDEN_SIZE = 256\n",
    "BATCH_SIZE = 64\n",
    "ALPHA = 5\n",
    "LR = 0.0001\n",
    "LR_LAMBDA = 1\n",
    "EPOCH = 1\n",
    "AUTOSAVE = True\n",
    "N_SAMPLE = 6\n",
    "TRAIN_BUFFER_SIZE = 20\n",
    "TRAIN_FILES_TO_READ = 20\n",
    "\n",
    "TEST_BUFFER_SIZE = 20\n",
    "TEST_FILE_TO_READ = 20\n",
    "SCALER_DICT_SAVE_PATH = \"./gru_saving/gru_piano_scaler_dict.pkl\"\n",
    "TRACK_ORDER_SAVE_PATH = \"./gru_saving/gru_piano_track_order.pkl\"\n",
    "SAVE_ON_EPOCH = 20\n",
    "PATH = os.path.join(PROJECT_DIR, PPR_DIR)\n",
    "INSTRUMENT = [\"Piano\"]\n",
    "all_file_paths = data_reading.read_all_npzs(PATH, True)\n",
    "train_file_paths = all_file_paths[:round(len(all_file_paths)*TRAIN_SPLIT)]\n",
    "test_file_paths = all_file_paths[round(len(all_file_paths)*TRAIN_SPLIT):]\n",
    "train_piano_dataset = iterable_dataset.IterableSongDataset(train_file_paths, SEQ_LEN, RESOLUTION, INSTRUMENT, \n",
    "                                          time_slice=False, normalize=False, binarize=False,\n",
    "                                          buffer_size=TRAIN_BUFFER_SIZE, files_to_read=TRAIN_FILES_TO_READ)\n",
    "train_piano_loader = DataLoader(train_piano_dataset, batch_size = BATCH_SIZE, drop_last=True)\n",
    "test_piano_dataset = iterable_dataset.IterableSongDataset(test_file_paths, SEQ_LEN, RESOLUTION, INSTRUMENT, \n",
    "                                         time_slice=False, normalize=False, binarize=False,\n",
    "                                         buffer_size=TEST_BUFFER_SIZE, files_to_read=TEST_FILE_TO_READ)\n",
    "test_piano_loader = DataLoader(test_piano_dataset, batch_size = BATCH_SIZE, drop_last=True)\n",
    "\n",
    "\n",
    "\n"
   ]
  },
  {
   "cell_type": "code",
   "execution_count": 11,
   "id": "0084f0d8",
   "metadata": {},
   "outputs": [],
   "source": [
    "model = ConvVAE(train_piano_dataset.get_track_order(), HIDDEN_SIZE).to(DEVICE)"
   ]
  },
  {
   "cell_type": "code",
   "execution_count": 12,
   "id": "a4f1da46",
   "metadata": {},
   "outputs": [],
   "source": [
    "optimizer = torch.optim.Adam(model.parameters(), lr=LR)\n",
    "scheduler = torch.optim.lr_scheduler.LambdaLR(optimizer, lr_lambda = lambda epoch: LR_LAMBDA ** epoch)"
   ]
  },
  {
   "cell_type": "code",
   "execution_count": 13,
   "id": "4e78f597",
   "metadata": {},
   "outputs": [
    {
     "name": "stdout",
     "output_type": "stream",
     "text": [
      "reloading\n",
      "reloading\n",
      "Epoch 1, Train Loss: 707692.3440551758, Test Loss: 573695.7053136826, Time: 2022-04-25 10:50:20.837462\n"
     ]
    },
    {
     "data": {
      "text/plain": [
       "([707692.3440551758], [573695.7053136826])"
      ]
     },
     "execution_count": 13,
     "metadata": {},
     "output_type": "execute_result"
    }
   ],
   "source": [
    "train_losses, test_losses = training_vae.training_vae(model, optimizer, scheduler,  train_piano_loader,\n",
    "             test_piano_loader, EPOCH, N_SAMPLE, DEVICE, AUTOSAVE, SAVE_ON_EPOCH)\n"
   ]
  },
  {
   "cell_type": "code",
   "execution_count": null,
   "id": "1f9bcb94",
   "metadata": {},
   "outputs": [],
   "source": [
    "with open(SCALER_DICT_SAVE_PATH, \"wb\") as file:\n",
    "    pickle.dump(train_piano_dataset.get_scaler_dict(), file)\n",
    "with open(TRACK_ORDER_SAVE_PATH, \"wb\") as file:\n",
    "    pickle.dump(train_piano_dataset.get_track_order(), file)"
   ]
  },
  {
   "cell_type": "code",
   "execution_count": null,
   "id": "7014c5e8",
   "metadata": {},
   "outputs": [],
   "source": [
    "plt.rcParams[\"figure.figsize\"] = (20,20)\n",
    "plt.plot(train_losses, label = 'Train Loss')\n",
    "plt.plot(test_losses, label = 'Test Loss')\n",
    "plt.xlabel('Epoch')\n",
    "plt.ylabel('Loss')\n",
    "plt.legend()\n"
   ]
  }
 ],
 "metadata": {
  "kernelspec": {
   "display_name": "Python 3 (ipykernel)",
   "language": "python",
   "name": "python3"
  },
  "language_info": {
   "codemirror_mode": {
    "name": "ipython",
    "version": 3
   },
   "file_extension": ".py",
   "mimetype": "text/x-python",
   "name": "python",
   "nbconvert_exporter": "python",
   "pygments_lexer": "ipython3",
   "version": "3.9.7"
  }
 },
 "nbformat": 4,
 "nbformat_minor": 5
}
